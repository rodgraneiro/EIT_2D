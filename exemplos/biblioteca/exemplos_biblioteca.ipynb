{
 "cells": [
  {
   "cell_type": "code",
   "execution_count": 19,
   "id": "1c05ef00",
   "metadata": {},
   "outputs": [],
   "source": [
    "import numpy as np\n",
    "import mesh"
   ]
  },
  {
   "cell_type": "code",
   "execution_count": 2,
   "id": "5299a1b7",
   "metadata": {},
   "outputs": [
    {
     "name": "stdout",
     "output_type": "stream",
     "text": [
      "Reading ../../malhasMSH/circ8_anomalia5.msh.\n",
      "\n",
      "Physical tags found: [1 2].\n",
      "534 Elements and 302 Nodes found.\n",
      "ElectrodeNodes: [0 1 2 3 4 5 6 7]\n",
      "GndNode: 8\n"
     ]
    }
   ],
   "source": [
    "nome = '../../malhasMSH/circ8_anomalia5.msh'\n",
    "\n",
    "MinhaMalha = mesh.PointElectrodes2DMeshEdson(8, nome_msh=nome, altura2D = 0.02)\n",
    "MinhaMalha.ReadMesh()"
   ]
  },
  {
   "cell_type": "code",
   "execution_count": 3,
   "id": "3781e10d",
   "metadata": {},
   "outputs": [
    {
     "name": "stdout",
     "output_type": "stream",
     "text": [
      "<elements.LinearTriangle object at 0x7ae2404f4b00>\n",
      "Centroid: [0.01809848 0.005433   0.        ]\n",
      "KGeo: \n",
      "[[ 0.00902397 -0.00622189 -0.00280208]\n",
      " [-0.00622189  0.0153715  -0.00914961]\n",
      " [-0.00280208 -0.00914961  0.01195169]]\n"
     ]
    }
   ],
   "source": [
    "print(MinhaMalha.Elements[2])\n",
    "print(f\"Centroid: {MinhaMalha.Elements[2].Centroid}\")\n",
    "print(f\"KGeo: \\n{MinhaMalha.Elements[2].KGeo}\")"
   ]
  },
  {
   "cell_type": "code",
   "execution_count": null,
   "id": "afbc698f",
   "metadata": {},
   "outputs": [],
   "source": [
    "meus_sigmas = {}\n",
    "meus_sigmas[1] = 0.1\n",
    "meus_sigmas[2] = 0.2\n",
    "MinhaMalha.SetSigmaPhysicaEntity(meus_sigmas) # Informando sigma (e já calculando o rho de cada elemento)"
   ]
  },
  {
   "cell_type": "code",
   "execution_count": null,
   "id": "89a32b7b",
   "metadata": {},
   "outputs": [],
   "source": [
    "MinhaMalha.CalcKGlobal() # calculando KGlobal usando Sigmas"
   ]
  },
  {
   "cell_type": "code",
   "execution_count": 7,
   "id": "7941c3b3",
   "metadata": {},
   "outputs": [
    {
     "data": {
      "text/plain": [
       "array([[ 0.00339063,  0.        ,  0.        , ...,  0.        ,\n",
       "         0.        ,  0.        ],\n",
       "       [ 0.        ,  0.00343123,  0.        , ...,  0.        ,\n",
       "         0.        ,  0.        ],\n",
       "       [ 0.        ,  0.        ,  0.00329807, ...,  0.        ,\n",
       "         0.        ,  0.        ],\n",
       "       ...,\n",
       "       [ 0.        ,  0.        ,  0.        , ...,  0.01399727,\n",
       "        -0.00143557, -0.00309086],\n",
       "       [ 0.        ,  0.        ,  0.        , ..., -0.00143557,\n",
       "         0.01413989, -0.00237716],\n",
       "       [ 0.        ,  0.        ,  0.        , ..., -0.00309086,\n",
       "        -0.00237716,  0.01463042]], shape=(302, 302))"
      ]
     },
     "execution_count": 7,
     "metadata": {},
     "output_type": "execute_result"
    }
   ],
   "source": [
    "MinhaMalha.KGlobal"
   ]
  },
  {
   "cell_type": "code",
   "execution_count": null,
   "id": "86d672ca",
   "metadata": {},
   "outputs": [
    {
     "name": "stdout",
     "output_type": "stream",
     "text": [
      "Reading ../../malhasMSH/circ8_anomalia5.msh.\n",
      "\n",
      "Physical tags found: [1 2].\n",
      "534 Elements and 302 Nodes found.\n",
      "ElectrodeNodes: [0 1 2 3 4 5 6 7]\n",
      "GndNode: 8\n"
     ]
    },
    {
     "data": {
      "text/plain": [
       "array([[ 0.00339063,  0.        ,  0.        , ...,  0.        ,\n",
       "         0.        ,  0.        ],\n",
       "       [ 0.        ,  0.00343123,  0.        , ...,  0.        ,\n",
       "         0.        ,  0.        ],\n",
       "       [ 0.        ,  0.        ,  0.00329807, ...,  0.        ,\n",
       "         0.        ,  0.        ],\n",
       "       ...,\n",
       "       [ 0.        ,  0.        ,  0.        , ...,  0.01399727,\n",
       "        -0.00143557, -0.00309086],\n",
       "       [ 0.        ,  0.        ,  0.        , ..., -0.00143557,\n",
       "         0.01413989, -0.00237716],\n",
       "       [ 0.        ,  0.        ,  0.        , ..., -0.00309086,\n",
       "        -0.00237716,  0.01463042]], shape=(302, 302))"
      ]
     },
     "execution_count": 9,
     "metadata": {},
     "output_type": "execute_result"
    }
   ],
   "source": [
    "M2 = mesh.PointElectrodes2DMeshEdson(8, nome_msh=nome, altura2D = 0.02)\n",
    "M2.ReadMesh()\n",
    "meus_rhos = {}\n",
    "meus_rhos[1] = 10\n",
    "meus_rhos[2] = 5\n",
    "M2.SetRhoPhysicaEntity(meus_rhos) # Informando rho (e já calculando o sigma de cada elemento)\n",
    "M2.CalcKGlobal() # calculando KGlobal usando Sigmas\n",
    "M2.KGlobal"
   ]
  },
  {
   "cell_type": "code",
   "execution_count": 15,
   "id": "9dd589ee",
   "metadata": {},
   "outputs": [
    {
     "name": "stdout",
     "output_type": "stream",
     "text": [
      "Reading ../../malhasMSH/circ8_anomalia5.msh.\n",
      "\n",
      "Physical tags found: [1 2].\n",
      "534 Elements and 302 Nodes found.\n",
      "ElectrodeNodes: [0 1 2 3 4 5 6 7]\n",
      "GndNode: 8\n"
     ]
    },
    {
     "data": {
      "text/plain": [
       "array([[ 0.00339063,  0.        ,  0.        , ...,  0.        ,\n",
       "         0.        ,  0.        ],\n",
       "       [ 0.        ,  0.00343123,  0.        , ...,  0.        ,\n",
       "         0.        ,  0.        ],\n",
       "       [ 0.        ,  0.        ,  0.00329807, ...,  0.        ,\n",
       "         0.        ,  0.        ],\n",
       "       ...,\n",
       "       [ 0.        ,  0.        ,  0.        , ...,  0.01399727,\n",
       "        -0.00143557, -0.00309086],\n",
       "       [ 0.        ,  0.        ,  0.        , ..., -0.00143557,\n",
       "         0.01413989, -0.00237716],\n",
       "       [ 0.        ,  0.        ,  0.        , ..., -0.00309086,\n",
       "        -0.00237716,  0.01463042]], shape=(302, 302))"
      ]
     },
     "execution_count": 15,
     "metadata": {},
     "output_type": "execute_result"
    }
   ],
   "source": [
    "M3 = mesh.PointElectrodes2DMeshEdson(8, nome_msh=nome, altura2D = 0.02)\n",
    "M3.ReadMesh()\n",
    "meus_rhos = {}\n",
    "meus_rhos[1] = 10\n",
    "meus_rhos[2] = 5\n",
    "M3.SetRhoPhysicaEntity(meus_rhos) # Informando rho (e já calculando o sigma de cada elemento)\n",
    "M3.FlagRhoBased = True\n",
    "M3.CalcKGlobal() # calculando KGlobal usando Rho\n",
    "M3.KGlobal"
   ]
  },
  {
   "cell_type": "code",
   "execution_count": 11,
   "id": "88b9fa03",
   "metadata": {},
   "outputs": [
    {
     "name": "stdout",
     "output_type": "stream",
     "text": [
      "Reading ../../malhasMSH/circ8_anomalia5.msh.\n",
      "\n",
      "Physical tags found: [1 2].\n",
      "534 Elements and 302 Nodes found.\n",
      "ElectrodeNodes: [0 1 2 3 4 5 6 7]\n",
      "GndNode: 8\n"
     ]
    },
    {
     "data": {
      "text/plain": [
       "array([[ 0.00339063,  0.        ,  0.        , ...,  0.        ,\n",
       "         0.        ,  0.        ],\n",
       "       [ 0.        ,  0.00343123,  0.        , ...,  0.        ,\n",
       "         0.        ,  0.        ],\n",
       "       [ 0.        ,  0.        ,  0.00329807, ...,  0.        ,\n",
       "         0.        ,  0.        ],\n",
       "       ...,\n",
       "       [ 0.        ,  0.        ,  0.        , ...,  0.01399727,\n",
       "        -0.00143557, -0.00309086],\n",
       "       [ 0.        ,  0.        ,  0.        , ..., -0.00143557,\n",
       "         0.01413989, -0.00237716],\n",
       "       [ 0.        ,  0.        ,  0.        , ..., -0.00309086,\n",
       "        -0.00237716,  0.01463042]], shape=(302, 302))"
      ]
     },
     "execution_count": 11,
     "metadata": {},
     "output_type": "execute_result"
    }
   ],
   "source": [
    "M4 = mesh.PointElectrodes2DMeshEdson(8, nome_msh=nome, altura2D = 0.02)\n",
    "M4.ReadMesh()\n",
    "meus_sigmas = {}\n",
    "meus_sigmas[1] = 0.1\n",
    "meus_sigmas[2] = 0.2\n",
    "M4.SetSigmaPhysicaEntity(meus_sigmas) # Informando sigma (e já calculando o rho de cada elemento)\n",
    "M4.FlagRhoBased = True\n",
    "M4.CalcKGlobal() # calculando KGlobal usando Rho\n",
    "M4.KGlobal"
   ]
  },
  {
   "cell_type": "code",
   "execution_count": 13,
   "id": "5d6af136",
   "metadata": {},
   "outputs": [
    {
     "data": {
      "text/plain": [
       "<mesh.PointElectrodes2DMeshEdson at 0x7ae24026cfe0>"
      ]
     },
     "execution_count": 13,
     "metadata": {},
     "output_type": "execute_result"
    }
   ],
   "source": [
    "M4"
   ]
  },
  {
   "cell_type": "markdown",
   "id": "5ff8ce4c",
   "metadata": {},
   "source": [
    "Comparação ajustando por valores, physical grous ou vetores"
   ]
  },
  {
   "cell_type": "code",
   "execution_count": 16,
   "id": "e2d37cd8",
   "metadata": {},
   "outputs": [
    {
     "name": "stdout",
     "output_type": "stream",
     "text": [
      "Reading ../../malhasMSH/circ8_anomalia5.msh.\n",
      "\n",
      "Physical tags found: [1 2].\n",
      "534 Elements and 302 Nodes found.\n",
      "ElectrodeNodes: [0 1 2 3 4 5 6 7]\n",
      "GndNode: 8\n"
     ]
    },
    {
     "data": {
      "text/plain": [
       "array([[ 0.00339063,  0.        ,  0.        , ...,  0.        ,\n",
       "         0.        ,  0.        ],\n",
       "       [ 0.        ,  0.00343123,  0.        , ...,  0.        ,\n",
       "         0.        ,  0.        ],\n",
       "       [ 0.        ,  0.        ,  0.00329807, ...,  0.        ,\n",
       "         0.        ,  0.        ],\n",
       "       ...,\n",
       "       [ 0.        ,  0.        ,  0.        , ...,  0.00699863,\n",
       "        -0.00071779, -0.00154543],\n",
       "       [ 0.        ,  0.        ,  0.        , ..., -0.00071779,\n",
       "         0.00706994, -0.00118858],\n",
       "       [ 0.        ,  0.        ,  0.        , ..., -0.00154543,\n",
       "        -0.00118858,  0.00731521]], shape=(302, 302))"
      ]
     },
     "execution_count": 16,
     "metadata": {},
     "output_type": "execute_result"
    }
   ],
   "source": [
    "Mpg = mesh.PointElectrodes2DMeshEdson(8, nome_msh=nome, altura2D = 0.02)\n",
    "Mpg.ReadMesh()\n",
    "meus_sigmas = {}\n",
    "meus_sigmas[1] = 0.1\n",
    "meus_sigmas[2] = 0.1\n",
    "Mpg.SetSigmaPhysicaEntity(meus_sigmas) # Informando sigma (e já calculando o rho de cada elemento)\n",
    "Mpg.FlagRhoBased = True\n",
    "Mpg.CalcKGlobal() # calculando KGlobal usando Rho\n",
    "Mpg.KGlobal"
   ]
  },
  {
   "cell_type": "code",
   "execution_count": 17,
   "id": "d5a32f36",
   "metadata": {},
   "outputs": [
    {
     "name": "stdout",
     "output_type": "stream",
     "text": [
      "Reading ../../malhasMSH/circ8_anomalia5.msh.\n",
      "\n",
      "Physical tags found: [1 2].\n",
      "534 Elements and 302 Nodes found.\n",
      "ElectrodeNodes: [0 1 2 3 4 5 6 7]\n",
      "GndNode: 8\n"
     ]
    },
    {
     "data": {
      "text/plain": [
       "array([[ 0.00339063,  0.        ,  0.        , ...,  0.        ,\n",
       "         0.        ,  0.        ],\n",
       "       [ 0.        ,  0.00343123,  0.        , ...,  0.        ,\n",
       "         0.        ,  0.        ],\n",
       "       [ 0.        ,  0.        ,  0.00329807, ...,  0.        ,\n",
       "         0.        ,  0.        ],\n",
       "       ...,\n",
       "       [ 0.        ,  0.        ,  0.        , ...,  0.00699863,\n",
       "        -0.00071779, -0.00154543],\n",
       "       [ 0.        ,  0.        ,  0.        , ..., -0.00071779,\n",
       "         0.00706994, -0.00118858],\n",
       "       [ 0.        ,  0.        ,  0.        , ..., -0.00154543,\n",
       "        -0.00118858,  0.00731521]], shape=(302, 302))"
      ]
     },
     "execution_count": 17,
     "metadata": {},
     "output_type": "execute_result"
    }
   ],
   "source": [
    "Mval = mesh.PointElectrodes2DMeshEdson(8, nome_msh=nome, altura2D = 0.02)\n",
    "Mval.ReadMesh()\n",
    "value = 0.1\n",
    "Mval.SetSigmaValue(value) # Informando sigma (e já calculando o rho de cada elemento)\n",
    "Mval.FlagRhoBased = True\n",
    "Mval.CalcKGlobal() # calculando KGlobal usando Rho\n",
    "Mval.KGlobal"
   ]
  },
  {
   "cell_type": "code",
   "execution_count": 20,
   "id": "ec4fb005",
   "metadata": {},
   "outputs": [
    {
     "name": "stdout",
     "output_type": "stream",
     "text": [
      "Reading ../../malhasMSH/circ8_anomalia5.msh.\n",
      "\n",
      "Physical tags found: [1 2].\n",
      "534 Elements and 302 Nodes found.\n",
      "ElectrodeNodes: [0 1 2 3 4 5 6 7]\n",
      "GndNode: 8\n"
     ]
    },
    {
     "data": {
      "text/plain": [
       "array([[ 0.00339063,  0.        ,  0.        , ...,  0.        ,\n",
       "         0.        ,  0.        ],\n",
       "       [ 0.        ,  0.00343123,  0.        , ...,  0.        ,\n",
       "         0.        ,  0.        ],\n",
       "       [ 0.        ,  0.        ,  0.00329807, ...,  0.        ,\n",
       "         0.        ,  0.        ],\n",
       "       ...,\n",
       "       [ 0.        ,  0.        ,  0.        , ...,  0.00699863,\n",
       "        -0.00071779, -0.00154543],\n",
       "       [ 0.        ,  0.        ,  0.        , ..., -0.00071779,\n",
       "         0.00706994, -0.00118858],\n",
       "       [ 0.        ,  0.        ,  0.        , ..., -0.00154543,\n",
       "        -0.00118858,  0.00731521]], shape=(302, 302))"
      ]
     },
     "execution_count": 20,
     "metadata": {},
     "output_type": "execute_result"
    }
   ],
   "source": [
    "Mvec = mesh.PointElectrodes2DMeshEdson(8, nome_msh=nome, altura2D = 0.02)\n",
    "Mvec.ReadMesh()\n",
    "vec = np.ones(Mvec.NumberOfElements) * 0.1\n",
    "Mvec.SetSigmaElements(vec) # Informando sigma (e já calculando o rho de cada elemento)\n",
    "Mvec.FlagRhoBased = True\n",
    "Mvec.CalcKGlobal() # calculando KGlobal usando Rho\n",
    "Mvec.KGlobal"
   ]
  },
  {
   "cell_type": "code",
   "execution_count": null,
   "id": "d51b85c8",
   "metadata": {},
   "outputs": [],
   "source": []
  }
 ],
 "metadata": {
  "kernelspec": {
   "display_name": "pythonEIT",
   "language": "python",
   "name": "python3"
  },
  "language_info": {
   "codemirror_mode": {
    "name": "ipython",
    "version": 3
   },
   "file_extension": ".py",
   "mimetype": "text/x-python",
   "name": "python",
   "nbconvert_exporter": "python",
   "pygments_lexer": "ipython3",
   "version": "3.12.3"
  }
 },
 "nbformat": 4,
 "nbformat_minor": 5
}
