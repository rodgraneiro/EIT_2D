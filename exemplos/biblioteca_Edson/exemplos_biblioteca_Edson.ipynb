{
 "cells": [
  {
   "cell_type": "code",
   "execution_count": 1,
   "id": "1c05ef00",
   "metadata": {},
   "outputs": [],
   "source": [
    "import numpy as np\n",
    "import mesh"
   ]
  },
  {
   "cell_type": "markdown",
   "id": "b9bc7e70",
   "metadata": {},
   "source": [
    "# EXEMPLOS BIBLIOTECA EDSON"
   ]
  },
  {
   "cell_type": "code",
   "execution_count": 2,
   "id": "d523a5f6",
   "metadata": {},
   "outputs": [
    {
     "name": "stdout",
     "output_type": "stream",
     "text": [
      "Reading ../../malhasMSH/circ2_tst_Hua_v2_2_lc_especial.msh.\n",
      "\n",
      "msh_physical_groups found: [1000 1000 1000 1000 1000 1000 1000 1000 1000 1000 1000 1000 1000 1000\n",
      " 1000 1000 1000 1000].\n",
      "Physical tags found: [1000].\n",
      "18 Elements and 17 Nodes found.\n",
      "ElectrodeNodes: [0 1]\n",
      "GndNode: 2\n",
      "self.msh_physical_groups ??? None\n",
      "nodes 4\n",
      "self.msh_physical_groups ??? None\n",
      "nodes 11\n",
      "KGeo [[ 0.04806331  0.02403166 -0.07209497]\n",
      " [ 0.02403166  0.04806331 -0.07209497]\n",
      " [-0.07209497 -0.07209497  0.14418994]]\n",
      "self.msh_physical_groups ??? None\n",
      "nodes 9\n",
      "self.msh_physical_groups ??? None\n",
      "nodes 13\n",
      "KGeo [[ 0.04806331  0.02403166 -0.07209497]\n",
      " [ 0.02403166  0.04806331 -0.07209497]\n",
      " [-0.07209497 -0.07209497  0.14418994]]\n",
      "self.msh_physical_groups ??? None\n",
      "nodes 14\n",
      "self.msh_physical_groups ??? None\n",
      "nodes 0\n",
      "KGeo [[ 0.04806331  0.02403166 -0.07209497]\n",
      " [ 0.02403166  0.04806331 -0.07209497]\n",
      " [-0.07209497 -0.07209497  0.14418994]]\n",
      "self.msh_physical_groups ??? None\n",
      "nodes 12\n",
      "self.msh_physical_groups ??? None\n",
      "nodes 5\n",
      "KGeo [[ 0.04806331  0.02403166 -0.07209497]\n",
      " [ 0.02403166  0.04806331 -0.07209497]\n",
      " [-0.07209497 -0.07209497  0.14418994]]\n",
      "self.msh_physical_groups ??? None\n",
      "nodes 8\n",
      "self.msh_physical_groups ??? None\n",
      "nodes 9\n",
      "KGeo [[ 0.00166659  0.00083329 -0.00249988]\n",
      " [ 0.00083329  0.00166659 -0.00249988]\n",
      " [-0.00249988 -0.00249988  0.00499977]]\n",
      "self.msh_physical_groups ??? None\n",
      "nodes 3\n",
      "self.msh_physical_groups ??? None\n",
      "nodes 4\n",
      "KGeo [[ 0.00166659  0.00083329 -0.00249988]\n",
      " [ 0.00083329  0.00166659 -0.00249988]\n",
      " [-0.00249988 -0.00249988  0.00499977]]\n",
      "self.msh_physical_groups ??? None\n",
      "nodes 5\n",
      "self.msh_physical_groups ??? None\n",
      "nodes 6\n",
      "KGeo [[ 0.00166659  0.00083329 -0.00249988]\n",
      " [ 0.00083329  0.00166659 -0.00249988]\n",
      " [-0.00249988 -0.00249988  0.00499977]]\n",
      "self.msh_physical_groups ??? None\n",
      "nodes 0\n",
      "self.msh_physical_groups ??? None\n",
      "nodes 1\n",
      "KGeo [[ 0.00166659  0.00083329 -0.00249988]\n",
      " [ 0.00083329  0.00166659 -0.00249988]\n",
      " [-0.00249988 -0.00249988  0.00499977]]\n",
      "self.msh_physical_groups ??? None\n",
      "nodes 10\n",
      "self.msh_physical_groups ??? None\n",
      "nodes 11\n",
      "KGeo [[ 0.05   0.025 -0.075]\n",
      " [ 0.025  0.05  -0.075]\n",
      " [-0.075 -0.075  0.15 ]]\n",
      "self.msh_physical_groups ??? None\n",
      "nodes 14\n",
      "self.msh_physical_groups ??? None\n",
      "nodes 10\n",
      "KGeo [[ 0.05   0.025 -0.075]\n",
      " [ 0.025  0.05  -0.075]\n",
      " [-0.075 -0.075  0.15 ]]\n",
      "self.msh_physical_groups ??? None\n",
      "nodes 11\n",
      "self.msh_physical_groups ??? None\n",
      "nodes 10\n",
      "KGeo [[ 0.05   0.025 -0.075]\n",
      " [ 0.025  0.05  -0.075]\n",
      " [-0.075 -0.075  0.15 ]]\n",
      "self.msh_physical_groups ??? None\n",
      "nodes 13\n",
      "self.msh_physical_groups ??? None\n",
      "nodes 10\n",
      "KGeo [[ 0.05   0.025 -0.075]\n",
      " [ 0.025  0.05  -0.075]\n",
      " [-0.075 -0.075  0.15 ]]\n",
      "self.msh_physical_groups ??? None\n",
      "nodes 10\n",
      "self.msh_physical_groups ??? None\n",
      "nodes 12\n",
      "KGeo [[ 0.05   0.025 -0.075]\n",
      " [ 0.025  0.05  -0.075]\n",
      " [-0.075 -0.075  0.15 ]]\n",
      "self.msh_physical_groups ??? None\n",
      "nodes 10\n",
      "self.msh_physical_groups ??? None\n",
      "nodes 14\n",
      "KGeo [[ 0.05   0.025 -0.075]\n",
      " [ 0.025  0.05  -0.075]\n",
      " [-0.075 -0.075  0.15 ]]\n",
      "self.msh_physical_groups ??? None\n",
      "nodes 1\n",
      "self.msh_physical_groups ??? None\n",
      "nodes 2\n",
      "KGeo [[ 0.00166659  0.00083329 -0.00249988]\n",
      " [ 0.00083329  0.00166659 -0.00249988]\n",
      " [-0.00249988 -0.00249988  0.00499977]]\n",
      "self.msh_physical_groups ??? None\n",
      "nodes 2\n",
      "self.msh_physical_groups ??? None\n",
      "nodes 3\n",
      "KGeo [[ 0.00166659  0.00083329 -0.00249988]\n",
      " [ 0.00083329  0.00166659 -0.00249988]\n",
      " [-0.00249988 -0.00249988  0.00499977]]\n",
      "self.msh_physical_groups ??? None\n",
      "nodes 6\n",
      "self.msh_physical_groups ??? None\n",
      "nodes 7\n",
      "KGeo [[ 0.00166659  0.00083329 -0.00249988]\n",
      " [ 0.00083329  0.00166659 -0.00249988]\n",
      " [-0.00249988 -0.00249988  0.00499977]]\n",
      "self.msh_physical_groups ??? None\n",
      "nodes 7\n",
      "self.msh_physical_groups ??? None\n",
      "nodes 8\n",
      "KGeo [[ 0.00166659  0.00083329 -0.00249988]\n",
      " [ 0.00083329  0.00166659 -0.00249988]\n",
      " [-0.00249988 -0.00249988  0.00499977]]\n"
     ]
    }
   ],
   "source": [
    "nome = '../../malhasMSH/circ2_tst_Hua_v2_2_lc_especial.msh'\n",
    "#nome = '../../malhasMSH/circ8_anom4_tst_Hua_v2_2_lc_especial.msh'\n",
    "\n",
    "MinhaMalha = mesh.HuaElectrodes2DMeshEdson(2, nome_msh=nome, altura2D = 0.02)\n",
    "MinhaMalha.ReadMesh() "
   ]
  },
  {
   "cell_type": "code",
   "execution_count": 3,
   "id": "9660fe67",
   "metadata": {},
   "outputs": [
    {
     "name": "stdout",
     "output_type": "stream",
     "text": [
      "<elements.LinearLineHua object at 0x000001F419FA4350>\n",
      "Centroid: None\n",
      "KGeo: \n",
      "[[ 0.04806331  0.02403166 -0.07209497]\n",
      " [ 0.02403166  0.04806331 -0.07209497]\n",
      " [-0.07209497 -0.07209497  0.14418994]]\n"
     ]
    }
   ],
   "source": [
    "print(MinhaMalha.Elements[2])\n",
    "print(f\"Centroid: {MinhaMalha.Elements[2].Centroid}\")\n",
    "print(f\"KGeo: \\n{MinhaMalha.Elements[2].KGeo}\")"
   ]
  },
  {
   "cell_type": "code",
   "execution_count": 4,
   "id": "35bf9a32",
   "metadata": {},
   "outputs": [
    {
     "name": "stdout",
     "output_type": "stream",
     "text": [
      "CHAVES recebidas em dic: [1000]\n"
     ]
    }
   ],
   "source": [
    "meus_sigmas = {}\n",
    "meus_sigmas[1000] = 0.1\n",
    "#meus_sigmas[2] = 0.2\n",
    "MinhaMalha.SetSigmaPhysicaEntity(meus_sigmas) # Informando sigma (e já calculando o rho de cada elemento)"
   ]
  },
  {
   "cell_type": "code",
   "execution_count": 5,
   "id": "bcaa4490",
   "metadata": {},
   "outputs": [],
   "source": [
    "#MinhaMalha.CalcKGlobal() # calculando KGlobal usando Sigmas"
   ]
  },
  {
   "cell_type": "code",
   "execution_count": 6,
   "id": "9ab96413",
   "metadata": {},
   "outputs": [],
   "source": [
    "#MinhaMalha.KGlobal"
   ]
  },
  {
   "cell_type": "markdown",
   "id": "6a414139",
   "metadata": {},
   "source": [
    "# EXEMPLOS BIBLIOTECAS OLD"
   ]
  },
  {
   "cell_type": "code",
   "execution_count": 7,
   "id": "5299a1b7",
   "metadata": {},
   "outputs": [
    {
     "data": {
      "text/plain": [
       "\"\\nnome = '../../malhasMSH/circ8_anomalia5.msh'\\n\\nMinhaMalha = mesh.PointElectrodes2DMeshEdson(8, nome_msh=nome, altura2D = 0.02)\\nMinhaMalha.ReadMesh()\\n\""
      ]
     },
     "execution_count": 7,
     "metadata": {},
     "output_type": "execute_result"
    }
   ],
   "source": [
    "'''\n",
    "nome = '../../malhasMSH/circ8_anomalia5.msh'\n",
    "\n",
    "MinhaMalha = mesh.PointElectrodes2DMeshEdson(8, nome_msh=nome, altura2D = 0.02)\n",
    "MinhaMalha.ReadMesh()\n",
    "'''"
   ]
  },
  {
   "cell_type": "code",
   "execution_count": 8,
   "id": "3781e10d",
   "metadata": {},
   "outputs": [
    {
     "data": {
      "text/plain": [
       "'\\nprint(MinhaMalha.Elements[2])\\nprint(f\"Centroid: {MinhaMalha.Elements[2].Centroid}\")\\nprint(f\"KGeo: \\n{MinhaMalha.Elements[2].KGeo}\")\\n'"
      ]
     },
     "execution_count": 8,
     "metadata": {},
     "output_type": "execute_result"
    }
   ],
   "source": [
    "'''\n",
    "print(MinhaMalha.Elements[2])\n",
    "print(f\"Centroid: {MinhaMalha.Elements[2].Centroid}\")\n",
    "print(f\"KGeo: \\n{MinhaMalha.Elements[2].KGeo}\")\n",
    "'''"
   ]
  },
  {
   "cell_type": "code",
   "execution_count": 9,
   "id": "afbc698f",
   "metadata": {},
   "outputs": [
    {
     "data": {
      "text/plain": [
       "'\\nmeus_sigmas = {}\\nmeus_sigmas[1] = 0.1\\nmeus_sigmas[2] = 0.2\\nMinhaMalha.SetSigmaPhysicaEntity(meus_sigmas) # Informando sigma (e já calculando o rho de cada elemento)\\n'"
      ]
     },
     "execution_count": 9,
     "metadata": {},
     "output_type": "execute_result"
    }
   ],
   "source": [
    "'''\n",
    "meus_sigmas = {}\n",
    "meus_sigmas[1] = 0.1\n",
    "meus_sigmas[2] = 0.2\n",
    "MinhaMalha.SetSigmaPhysicaEntity(meus_sigmas) # Informando sigma (e já calculando o rho de cada elemento)\n",
    "'''"
   ]
  },
  {
   "cell_type": "code",
   "execution_count": 10,
   "id": "89a32b7b",
   "metadata": {},
   "outputs": [],
   "source": [
    "#MinhaMalha.CalcKGlobal() # calculando KGlobal usando Sigmas"
   ]
  },
  {
   "cell_type": "code",
   "execution_count": 11,
   "id": "7941c3b3",
   "metadata": {},
   "outputs": [],
   "source": [
    "#MinhaMalha.KGlobal"
   ]
  },
  {
   "cell_type": "code",
   "execution_count": 12,
   "id": "86d672ca",
   "metadata": {},
   "outputs": [
    {
     "data": {
      "text/plain": [
       "'\\nM2 = mesh.PointElectrodes2DMeshEdson(8, nome_msh=nome, altura2D = 0.02)\\nM2.ReadMesh()\\nmeus_rhos = {}\\nmeus_rhos[1] = 10\\nmeus_rhos[2] = 5\\nM2.SetRhoPhysicaEntity(meus_rhos) # Informando rho (e já calculando o sigma de cada elemento)\\nM2.CalcKGlobal() # calculando KGlobal usando Sigmas\\nM2.KGlobal\\n'"
      ]
     },
     "execution_count": 12,
     "metadata": {},
     "output_type": "execute_result"
    }
   ],
   "source": [
    "'''\n",
    "M2 = mesh.PointElectrodes2DMeshEdson(8, nome_msh=nome, altura2D = 0.02)\n",
    "M2.ReadMesh()\n",
    "meus_rhos = {}\n",
    "meus_rhos[1] = 10\n",
    "meus_rhos[2] = 5\n",
    "M2.SetRhoPhysicaEntity(meus_rhos) # Informando rho (e já calculando o sigma de cada elemento)\n",
    "M2.CalcKGlobal() # calculando KGlobal usando Sigmas\n",
    "M2.KGlobal\n",
    "'''"
   ]
  },
  {
   "cell_type": "code",
   "execution_count": 13,
   "id": "9dd589ee",
   "metadata": {},
   "outputs": [
    {
     "data": {
      "text/plain": [
       "'\\nM3 = mesh.PointElectrodes2DMeshEdson(8, nome_msh=nome, altura2D = 0.02)\\nM3.ReadMesh()\\nmeus_rhos = {}\\nmeus_rhos[1] = 10\\nmeus_rhos[2] = 5\\nM3.SetRhoPhysicaEntity(meus_rhos) # Informando rho (e já calculando o sigma de cada elemento)\\nM3.FlagRhoBased = True\\nM3.CalcKGlobal() # calculando KGlobal usando Rho\\nM3.KGlobal\\n'"
      ]
     },
     "execution_count": 13,
     "metadata": {},
     "output_type": "execute_result"
    }
   ],
   "source": [
    "'''\n",
    "M3 = mesh.PointElectrodes2DMeshEdson(8, nome_msh=nome, altura2D = 0.02)\n",
    "M3.ReadMesh()\n",
    "meus_rhos = {}\n",
    "meus_rhos[1] = 10\n",
    "meus_rhos[2] = 5\n",
    "M3.SetRhoPhysicaEntity(meus_rhos) # Informando rho (e já calculando o sigma de cada elemento)\n",
    "M3.FlagRhoBased = True\n",
    "M3.CalcKGlobal() # calculando KGlobal usando Rho\n",
    "M3.KGlobal\n",
    "'''"
   ]
  },
  {
   "cell_type": "code",
   "execution_count": 14,
   "id": "88b9fa03",
   "metadata": {},
   "outputs": [
    {
     "data": {
      "text/plain": [
       "'\\nM4 = mesh.PointElectrodes2DMeshEdson(8, nome_msh=nome, altura2D = 0.02)\\nM4.ReadMesh()\\nmeus_sigmas = {}\\nmeus_sigmas[1] = 0.1\\nmeus_sigmas[2] = 0.2\\nM4.SetSigmaPhysicaEntity(meus_sigmas) # Informando sigma (e já calculando o rho de cada elemento)\\nM4.FlagRhoBased = True\\nM4.CalcKGlobal() # calculando KGlobal usando Rho\\nM4.KGlobal\\n'"
      ]
     },
     "execution_count": 14,
     "metadata": {},
     "output_type": "execute_result"
    }
   ],
   "source": [
    "'''\n",
    "M4 = mesh.PointElectrodes2DMeshEdson(8, nome_msh=nome, altura2D = 0.02)\n",
    "M4.ReadMesh()\n",
    "meus_sigmas = {}\n",
    "meus_sigmas[1] = 0.1\n",
    "meus_sigmas[2] = 0.2\n",
    "M4.SetSigmaPhysicaEntity(meus_sigmas) # Informando sigma (e já calculando o rho de cada elemento)\n",
    "M4.FlagRhoBased = True\n",
    "M4.CalcKGlobal() # calculando KGlobal usando Rho\n",
    "M4.KGlobal\n",
    "'''"
   ]
  },
  {
   "cell_type": "code",
   "execution_count": 15,
   "id": "5d6af136",
   "metadata": {},
   "outputs": [],
   "source": [
    "# M4"
   ]
  },
  {
   "cell_type": "markdown",
   "id": "5ff8ce4c",
   "metadata": {},
   "source": [
    "Comparação ajustando por valores, physical grous ou vetores"
   ]
  },
  {
   "cell_type": "code",
   "execution_count": 16,
   "id": "e2d37cd8",
   "metadata": {},
   "outputs": [
    {
     "data": {
      "text/plain": [
       "'\\nMpg = mesh.PointElectrodes2DMeshEdson(8, nome_msh=nome, altura2D = 0.02)\\nMpg.ReadMesh()\\nmeus_sigmas = {}\\nmeus_sigmas[1] = 0.1\\nmeus_sigmas[2] = 0.1\\nMpg.SetSigmaPhysicaEntity(meus_sigmas) # Informando sigma (e já calculando o rho de cada elemento)\\nMpg.FlagRhoBased = True\\nMpg.CalcKGlobal() # calculando KGlobal usando Rho\\nMpg.KGlobal\\n'"
      ]
     },
     "execution_count": 16,
     "metadata": {},
     "output_type": "execute_result"
    }
   ],
   "source": [
    "'''\n",
    "Mpg = mesh.PointElectrodes2DMeshEdson(8, nome_msh=nome, altura2D = 0.02)\n",
    "Mpg.ReadMesh()\n",
    "meus_sigmas = {}\n",
    "meus_sigmas[1] = 0.1\n",
    "meus_sigmas[2] = 0.1\n",
    "Mpg.SetSigmaPhysicaEntity(meus_sigmas) # Informando sigma (e já calculando o rho de cada elemento)\n",
    "Mpg.FlagRhoBased = True\n",
    "Mpg.CalcKGlobal() # calculando KGlobal usando Rho\n",
    "Mpg.KGlobal\n",
    "'''"
   ]
  },
  {
   "cell_type": "code",
   "execution_count": 17,
   "id": "d5a32f36",
   "metadata": {},
   "outputs": [
    {
     "data": {
      "text/plain": [
       "'\\nMval = mesh.PointElectrodes2DMeshEdson(8, nome_msh=nome, altura2D = 0.02)\\nMval.ReadMesh()\\nvalue = 0.1\\nMval.SetSigmaValue(value) # Informando sigma (e já calculando o rho de cada elemento)\\nMval.FlagRhoBased = True\\nMval.CalcKGlobal() # calculando KGlobal usando Rho\\nMval.KGlobal\\n'"
      ]
     },
     "execution_count": 17,
     "metadata": {},
     "output_type": "execute_result"
    }
   ],
   "source": [
    "'''\n",
    "Mval = mesh.PointElectrodes2DMeshEdson(8, nome_msh=nome, altura2D = 0.02)\n",
    "Mval.ReadMesh()\n",
    "value = 0.1\n",
    "Mval.SetSigmaValue(value) # Informando sigma (e já calculando o rho de cada elemento)\n",
    "Mval.FlagRhoBased = True\n",
    "Mval.CalcKGlobal() # calculando KGlobal usando Rho\n",
    "Mval.KGlobal\n",
    "'''"
   ]
  },
  {
   "cell_type": "code",
   "execution_count": 18,
   "id": "ec4fb005",
   "metadata": {},
   "outputs": [
    {
     "data": {
      "text/plain": [
       "'\\nMvec = mesh.PointElectrodes2DMeshEdson(8, nome_msh=nome, altura2D = 0.02)\\nMvec.ReadMesh()\\nvec = np.ones(Mvec.NumberOfElements) * 0.1\\nMvec.SetSigmaElements(vec) # Informando sigma (e já calculando o rho de cada elemento)\\nMvec.FlagRhoBased = True\\nMvec.CalcKGlobal() # calculando KGlobal usando Rho\\nMvec.KGlobal\\n'"
      ]
     },
     "execution_count": 18,
     "metadata": {},
     "output_type": "execute_result"
    }
   ],
   "source": [
    "'''\n",
    "Mvec = mesh.PointElectrodes2DMeshEdson(8, nome_msh=nome, altura2D = 0.02)\n",
    "Mvec.ReadMesh()\n",
    "vec = np.ones(Mvec.NumberOfElements) * 0.1\n",
    "Mvec.SetSigmaElements(vec) # Informando sigma (e já calculando o rho de cada elemento)\n",
    "Mvec.FlagRhoBased = True\n",
    "Mvec.CalcKGlobal() # calculando KGlobal usando Rho\n",
    "Mvec.KGlobal\n",
    "'''"
   ]
  },
  {
   "cell_type": "code",
   "execution_count": null,
   "id": "d51b85c8",
   "metadata": {},
   "outputs": [],
   "source": []
  }
 ],
 "metadata": {
  "kernelspec": {
   "display_name": "venv_EIT2D",
   "language": "python",
   "name": "python3"
  },
  "language_info": {
   "codemirror_mode": {
    "name": "ipython",
    "version": 3
   },
   "file_extension": ".py",
   "mimetype": "text/x-python",
   "name": "python",
   "nbconvert_exporter": "python",
   "pygments_lexer": "ipython3",
   "version": "3.11.4"
  }
 },
 "nbformat": 4,
 "nbformat_minor": 5
}
