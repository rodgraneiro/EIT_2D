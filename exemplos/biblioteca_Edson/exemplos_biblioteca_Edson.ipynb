{
 "cells": [
  {
   "cell_type": "code",
   "execution_count": null,
   "id": "1c05ef00",
   "metadata": {},
   "outputs": [],
   "source": [
    "import numpy as np\n",
    "import mesh\n",
    "import forwardProblem\n",
    "import matplotlib.pyplot as plt"
   ]
  },
  {
   "cell_type": "markdown",
   "id": "b9bc7e70",
   "metadata": {},
   "source": [
    "# EXEMPLOS BIBLIOTECA EDSON"
   ]
  },
  {
   "cell_type": "markdown",
   "id": "63f1fe93",
   "metadata": {},
   "source": [
    "ToDo:\n",
    "\n",
    "- Implementar elemento 1D ( class LinearLineEdson() ) [elements.py]\n",
    "- Implementar malha 1D ( class PointElectrodes1DMeshEdson() ) [mesh.py]\n",
    "- Rodar exemplos 1D antigos e ver se bate\n",
    "- Implementar problema direto (que deve funcionar com qualquer malha, não interessa se é 1D, 2D, com ou sem eletrodo...) [forward.py]"
   ]
  },
  {
   "cell_type": "markdown",
   "id": "c3ae8919",
   "metadata": {},
   "source": [
    "## Teste Tarefa unidimensional \n",
    "(class PointElectrodes1DMeshEdson())."
   ]
  },
  {
   "cell_type": "code",
   "execution_count": null,
   "id": "5ee4f1ac",
   "metadata": {},
   "outputs": [],
   "source": [
    "nome = '../../malhasMSH/unidimensional_100e_py.msh'\n",
    "\n",
    "noh_eletrodos = [0,  10, 20, 30, 40, 50, 60, 70, 80, 90,  100]\n",
    "\n",
    "MinhaMalha1D = mesh.PointElectrodes1DMeshEdson(noh_eletrodos, nome_msh=nome, altura1D = 0.02)\n",
    "MinhaMalha1D.ReadMesh()"
   ]
  },
  {
   "cell_type": "code",
   "execution_count": null,
   "id": "40b4d37f",
   "metadata": {},
   "outputs": [],
   "source": [
    "meus_sigmas = {}\n",
    "meus_sigmas[1] = 0.25\n",
    "meus_sigmas[2] = 0.5\n",
    "MinhaMalha1D.SetSigmaPhysicaEntity(meus_sigmas) # Informando sigma (e já calculando o rho de cada elemento)"
   ]
  },
  {
   "cell_type": "code",
   "execution_count": null,
   "id": "a22fc59a",
   "metadata": {},
   "outputs": [],
   "source": [
    "amplitude_corrente = 0.001\n",
    "Pcorrente = np.zeros(MinhaMalha1D.NumberOfNodes)                    # Monta vetor de corrente\n",
    "Pcorrente[0] = -amplitude_corrente                            # Nó de saída de corrente\n",
    "Pcorrente[MinhaMalha1D.NumberOfElements] = amplitude_corrente                  # Nó de entrada de corrente    \n",
    "\n",
    "fwd = forwardProblem.forward_problem(MinhaMalha1D, Pcorrente=Pcorrente)   # __init__ roda aqui\n"
   ]
  },
  {
   "cell_type": "code",
   "execution_count": null,
   "id": "34e6853c",
   "metadata": {},
   "outputs": [],
   "source": [
    "fwd.Solve()"
   ]
  },
  {
   "cell_type": "markdown",
   "id": "4a57b7d8",
   "metadata": {},
   "source": [
    "## Testes com HUA"
   ]
  },
  {
   "cell_type": "code",
   "execution_count": null,
   "id": "cb8459f1",
   "metadata": {},
   "outputs": [],
   "source": [
    "nome = '../../malhasMSH/circ2_tst_Hua_v2_2_lc_especial.msh'\n",
    "#nome = '../malhasMSH/circ8_anom4_tst_Hua_v2_2_lc_especial.msh'\n",
    "\n",
    "MinhaMalha = mesh.HuaElectrodes2DMeshEdson(2, nome_msh=nome, altura2D = 0.02)\n",
    "MinhaMalha.ReadMesh() \n",
    "\n",
    "print(MinhaMalha.Elements[2])\n",
    "print(f\"Centroid: {MinhaMalha.Elements[2].Centroid}\")\n",
    "print(f\"KGeo: \\n{MinhaMalha.Elements[2].KGeo}\")\n",
    "\n",
    "meus_sigmas = {}\n",
    "meus_sigmas[1000] = 0.1\n",
    "meus_sigmas[5001] = 0.2\n",
    "meus_sigmas[5002] = 0.2\n",
    "MinhaMalha.SetSigmaPhysicaEntity(meus_sigmas) # Informando sigma (e já calculando o rho de cada elemento)\n",
    "\n",
    "MinhaMalha.CalcKGlobal() # calculando KGlobal usando Sigmas\n",
    "\n",
    "coordenadas = MinhaMalha.Coordinates\n",
    "topologia = MinhaMalha.msh_topology\n",
    "\n",
    "MinhaMalha.KGlobal\n",
    "\n",
    "KGlobal =  MinhaMalha.KGlobal\n",
    "\n",
    "\n",
    "print(f'n_nodes = {MinhaMalha.NumberOfNodes}')\n",
    "\n",
    "Pcorrente = np.zeros(MinhaMalha.NumberOfNodes)                    # Monta vetor de corrente\n",
    "Pcorrente[17] = -0.001                            # Nó de saída de corrente\n",
    "Pcorrente[18] = 0.001                             # Nó de entrada de corrente\n",
    "\n",
    "V_imposto = [[11, 0.0]]  \n",
    "\n",
    "noh_eletrodos = [17,  18]\n",
    "\n",
    "fwd = forwardProblem.forward_problem(MinhaMalha, V_imposto, noh_eletrodos, Pcorrente)   # __init__ roda aqui\n",
    "####\n",
    "nome_arquivo = 'ParaVernoGmsh'\n",
    "\n",
    "N_padraoCC = 1\n",
    "\n",
    "#fwd.criar_arquivo_pos_2D(coordenadas, topologia, N_padraoCC, fwd.Vmedido, nome_arquivo)\n",
    "\n",
    "#fwd.abrir_Gmsh_pos(nome_arquivo, N_padraoCC)\n"
   ]
  },
  {
   "cell_type": "code",
   "execution_count": null,
   "id": "bcaa4490",
   "metadata": {},
   "outputs": [],
   "source": [
    "#MinhaMalha.CalcKGlobal() # calculando KGlobal usando Sigmas"
   ]
  },
  {
   "cell_type": "code",
   "execution_count": null,
   "id": "9ab96413",
   "metadata": {},
   "outputs": [],
   "source": [
    "#MinhaMalha.KGlobal"
   ]
  }
 ],
 "metadata": {
  "kernelspec": {
   "display_name": "venv_EIT2D",
   "language": "python",
   "name": "python3"
  },
  "language_info": {
   "codemirror_mode": {
    "name": "ipython",
    "version": 3
   },
   "file_extension": ".py",
   "mimetype": "text/x-python",
   "name": "python",
   "nbconvert_exporter": "python",
   "pygments_lexer": "ipython3",
   "version": "3.11.4"
  }
 },
 "nbformat": 4,
 "nbformat_minor": 5
}
