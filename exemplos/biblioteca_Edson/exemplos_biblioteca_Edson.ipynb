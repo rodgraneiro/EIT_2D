{
 "cells": [
  {
   "cell_type": "code",
   "execution_count": 8,
   "id": "1c05ef00",
   "metadata": {},
   "outputs": [],
   "source": [
    "import numpy as np\n",
    "import mesh\n",
    "import forwardProblem\n",
    "import matplotlib.pyplot as plt"
   ]
  },
  {
   "cell_type": "markdown",
   "id": "b9bc7e70",
   "metadata": {},
   "source": [
    "# EXEMPLOS BIBLIOTECA EDSON"
   ]
  },
  {
   "cell_type": "markdown",
   "id": "63f1fe93",
   "metadata": {},
   "source": [
    "ToDo:\n",
    "\n",
    "- Implementar elemento 1D ( class LinearLineEdson() ) [elements.py]\n",
    "- Implementar malha 1D ( class PointElectrodes1DMeshEdson() ) [mesh.py]\n",
    "- Rodar exemplos 1D antigos e ver se bate\n",
    "- Implementar problema direto (que deve funcionar com qualquer malha, não interessa se é 1D, 2D, com ou sem eletrodo...) [forward.py]"
   ]
  },
  {
   "cell_type": "markdown",
   "id": "c3ae8919",
   "metadata": {},
   "source": [
    "## Teste Tarefa unidimensional \n",
    "(class PointElectrodes1DMeshEdson())."
   ]
  },
  {
   "cell_type": "code",
   "execution_count": 2,
   "id": "5ee4f1ac",
   "metadata": {},
   "outputs": [
    {
     "name": "stdout",
     "output_type": "stream",
     "text": [
      "NumberOfElectrodes: 11\n",
      "Reading ../../malhasMSH/unidimensional_100e_py.msh.\n",
      "\n",
      "msh_physical_groups found (type line): [1 1 1 1 1 1 1 1 1 1 1 1 1 1 1 1 1 1 1 1 1 1 1 1 1 1 1 1 1 1 1 1 1 1 1 1 1\n",
      " 1 1 1 1 1 1 1 1 1 1 1 1 1 1 1 1 1 1 1 1 1 1 1 1 1 1 1 1 1 1 1 1 1 1 1 1 1\n",
      " 1 1 1 2 2 2 2 2 2 2 2 2 2 2 2 2 2 2 2 2 2 2 2 2 2 2].\n",
      "Physical tags found (type line): [1 2].\n",
      "MSH file with 100 elements and 101 nodes.\n",
      "GndNode: 0\n",
      "first five coordinates: [[0.   0.   0.  ]\n",
      " [0.01 0.   0.  ]\n",
      " [0.02 0.   0.  ]\n",
      " [0.03 0.   0.  ]\n",
      " [0.04 0.   0.  ]]\n",
      "Altura1D: 0.02\n"
     ]
    }
   ],
   "source": [
    "nome = '../../malhasMSH/unidimensional_100e_py.msh'\n",
    "\n",
    "noh_eletrodos = [0,  10, 20, 30, 40, 50, 60, 70, 80, 90,  100]\n",
    "\n",
    "MinhaMalha1D = mesh.PointElectrodes1DMeshEdson(noh_eletrodos, nome_msh=nome, altura1D = 0.02)\n",
    "MinhaMalha1D.ReadMesh()"
   ]
  },
  {
   "cell_type": "code",
   "execution_count": 3,
   "id": "40b4d37f",
   "metadata": {},
   "outputs": [
    {
     "name": "stdout",
     "output_type": "stream",
     "text": [
      "CHAVES recebidas em dic: [1, 2]\n"
     ]
    }
   ],
   "source": [
    "meus_sigmas = {}\n",
    "meus_sigmas[1] = 0.25\n",
    "meus_sigmas[2] = 0.5\n",
    "MinhaMalha1D.SetSigmaPhysicaEntity(meus_sigmas) # Informando sigma (e já calculando o rho de cada elemento)"
   ]
  },
  {
   "cell_type": "code",
   "execution_count": 4,
   "id": "a22fc59a",
   "metadata": {},
   "outputs": [],
   "source": [
    "amplitude_corrente = 0.001\n",
    "Pcorrente = np.zeros(MinhaMalha1D.NumberOfNodes)                    # Monta vetor de corrente\n",
    "Pcorrente[0] = -amplitude_corrente                            # Nó de saída de corrente\n",
    "Pcorrente[MinhaMalha1D.NumberOfElements] = amplitude_corrente                  # Nó de entrada de corrente    \n",
    "\n",
    "fwd = forwardProblem.forward_problem(MinhaMalha1D, Pcorrente=Pcorrente)   # __init__ roda aqui\n"
   ]
  },
  {
   "cell_type": "code",
   "execution_count": 5,
   "id": "34e6853c",
   "metadata": {},
   "outputs": [
    {
     "name": "stdout",
     "output_type": "stream",
     "text": [
      "Vetor de corrente: \n",
      " [-0.001  0.     0.     0.     0.     0.     0.     0.     0.     0.\n",
      "  0.     0.     0.     0.     0.     0.     0.     0.     0.     0.\n",
      "  0.     0.     0.     0.     0.     0.     0.     0.     0.     0.\n",
      "  0.     0.     0.     0.     0.     0.     0.     0.     0.     0.\n",
      "  0.     0.     0.     0.     0.     0.     0.     0.     0.     0.\n",
      "  0.     0.     0.     0.     0.     0.     0.     0.     0.     0.\n",
      "  0.     0.     0.     0.     0.     0.     0.     0.     0.     0.\n",
      "  0.     0.     0.     0.     0.     0.     0.     0.     0.     0.\n",
      "  0.     0.     0.     0.     0.     0.     0.     0.     0.     0.\n",
      "  0.     0.     0.     0.     0.     0.     0.     0.     0.     0.\n",
      "  0.001]\n",
      " Tensões medidas em todos os nós \n",
      " [0.    0.002 0.004 0.006 0.008 0.01  0.012 0.014 0.016 0.018 0.02  0.022\n",
      " 0.024 0.026 0.028 0.03  0.032 0.034 0.036 0.038 0.04  0.042 0.044 0.046\n",
      " 0.048 0.05  0.052 0.054 0.056 0.058 0.06  0.062 0.064 0.066 0.068 0.07\n",
      " 0.072 0.074 0.076 0.078 0.08  0.082 0.084 0.086 0.088 0.09  0.092 0.094\n",
      " 0.096 0.098 0.1   0.102 0.104 0.106 0.108 0.11  0.112 0.114 0.116 0.118\n",
      " 0.12  0.122 0.124 0.126 0.128 0.13  0.132 0.134 0.136 0.138 0.14  0.142\n",
      " 0.144 0.146 0.148 0.15  0.152 0.154 0.155 0.156 0.157 0.158 0.159 0.16\n",
      " 0.161 0.162 0.163 0.164 0.165 0.166 0.167 0.168 0.169 0.17  0.171 0.172\n",
      " 0.173 0.174 0.175 0.176 0.177])\n",
      " Tensões no eletrodos \n",
      " [0.    0.02  0.04  0.06  0.08  0.1   0.12  0.14  0.157 0.167 0.177])\n"
     ]
    }
   ],
   "source": [
    "fwd.Solve()"
   ]
  },
  {
   "cell_type": "code",
   "execution_count": 10,
   "id": "8b5beaa7",
   "metadata": {},
   "outputs": [
    {
     "data": {
      "text/plain": [
       "[<matplotlib.lines.Line2D at 0x79fc3838ec60>]"
      ]
     },
     "execution_count": 10,
     "metadata": {},
     "output_type": "execute_result"
    },
    {
     "data": {
      "image/png": "[encoded data removed]",
      "text/plain": [
       "<Figure size 640x480 with 1 Axes>"
      ]
     },
     "metadata": {},
     "output_type": "display_data"
    }
   ],
   "source": [
    "plt.plot(fwd.Vmedido)"
   ]
  },
  {
   "cell_type": "markdown",
   "id": "4a57b7d8",
   "metadata": {},
   "source": [
    "## Testes com HUA"
   ]
  },
  {
   "cell_type": "code",
   "execution_count": 7,
   "id": "cb8459f1",
   "metadata": {},
   "outputs": [
    {
     "name": "stdout",
     "output_type": "stream",
     "text": [
      "Reading ../../malhasMSH/circ2_tst_Hua_v2_2_lc_especial.msh.\n",
      "\n",
      "msh_physical_groups found (type triangle): [1000 1000 1000 1000 1000 1000 1000 1000 1000 1000 1000 1000 1000 1000\n",
      " 1000 1000 1000 1000].\n",
      "Physical tags found (type triangle): [1000].\n",
      "Physical tags: lines: [5001 5002]; points: [10000]\n",
      "2 electrodes found.\n",
      "MSH file with 18 elements and 17 nodes.\n",
      "ElectrodeNodes: [17 18]\n",
      "26 Elements and 19 Nodes found on model.\n",
      "GndNode: 10\n",
      "<elements.LinearTriangle object at 0x000002826D8B6650>\n",
      "Centroid: [ 0.11114379 -0.04717695  0.        ]\n",
      "KGeo: \n",
      "[[ 0.00286201  0.00035101 -0.00321302]\n",
      " [ 0.00035101  0.03498348 -0.03533448]\n",
      " [-0.00321302 -0.03533448  0.0385475 ]]\n",
      "CHAVES recebidas em dic: [1000, 5001, 5002]\n",
      "n_nodes = 19\n",
      "Vetor de corrente: \n",
      " [ 0.     0.     0.     0.     0.     0.     0.     0.     0.     0.\n",
      "  0.     0.     0.     0.     0.     0.     0.    -0.001  0.001]\n",
      " Tensões medidos \n",
      " [-3.61009650e-01 -4.01277025e-01 -4.14843998e-01 -4.01277025e-01\n",
      " -3.61009650e-01  5.37170934e-01  5.77438309e-01  5.91005282e-01\n",
      "  5.77438309e-01  5.37170934e-01  8.80806420e-02  0.00000000e+00\n",
      "  1.76161286e-01  1.76161284e-01 -1.62462011e-09  4.06064125e-01\n",
      " -2.29902841e-01 -1.28951806e+01  1.30713419e+01])\n",
      " Tensões no eletrodos \n",
      " [-12.89518065  13.07134193])\n"
     ]
    }
   ],
   "source": [
    "nome = '../../malhasMSH/circ2_tst_Hua_v2_2_lc_especial.msh'\n",
    "#nome = '../malhasMSH/circ8_anom4_tst_Hua_v2_2_lc_especial.msh'\n",
    "\n",
    "MinhaMalha = mesh.HuaElectrodes2DMeshEdson(2, nome_msh=nome, altura2D = 0.02)\n",
    "MinhaMalha.ReadMesh() \n",
    "\n",
    "print(MinhaMalha.Elements[2])\n",
    "print(f\"Centroid: {MinhaMalha.Elements[2].Centroid}\")\n",
    "print(f\"KGeo: \\n{MinhaMalha.Elements[2].KGeo}\")\n",
    "\n",
    "meus_sigmas = {}\n",
    "meus_sigmas[1000] = 0.1\n",
    "meus_sigmas[5001] = 0.2\n",
    "meus_sigmas[5002] = 0.2\n",
    "MinhaMalha.SetSigmaPhysicaEntity(meus_sigmas) # Informando sigma (e já calculando o rho de cada elemento)\n",
    "\n",
    "MinhaMalha.CalcKGlobal() # calculando KGlobal usando Sigmas\n",
    "\n",
    "coordenadas = MinhaMalha.Coordinates\n",
    "topologia = MinhaMalha.msh_topology\n",
    "\n",
    "MinhaMalha.KGlobal\n",
    "\n",
    "KGlobal =  MinhaMalha.KGlobal\n",
    "\n",
    "\n",
    "print(f'n_nodes = {MinhaMalha.NumberOfNodes}')\n",
    "\n",
    "Pcorrente = np.zeros(MinhaMalha.NumberOfNodes)                    # Monta vetor de corrente\n",
    "Pcorrente[17] = -0.001                            # Nó de saída de corrente\n",
    "Pcorrente[18] = 0.001                             # Nó de entrada de corrente\n",
    "\n",
    "V_imposto = [[11, 0.0]]  \n",
    "\n",
    "noh_eletrodos = [17,  18]\n",
    "\n",
    "fwd = forwardProblem.forward_problem(MinhaMalha, V_imposto, noh_eletrodos, Pcorrente)   # __init__ roda aqui\n",
    "####\n",
    "nome_arquivo = 'ParaVernoGmsh'\n",
    "\n",
    "N_padraoCC = 1\n",
    "\n",
    "fwd.criar_arquivo_pos_2D(coordenadas, topologia, N_padraoCC, fwd.Vmedido, nome_arquivo)\n",
    "\n",
    "fwd.abrir_Gmsh_pos(nome_arquivo, N_padraoCC)\n"
   ]
  },
  {
   "cell_type": "code",
   "execution_count": null,
   "id": "bcaa4490",
   "metadata": {},
   "outputs": [],
   "source": [
    "#MinhaMalha.CalcKGlobal() # calculando KGlobal usando Sigmas"
   ]
  },
  {
   "cell_type": "code",
   "execution_count": null,
   "id": "9ab96413",
   "metadata": {},
   "outputs": [],
   "source": [
    "#MinhaMalha.KGlobal"
   ]
  }
 ],
 "metadata": {
  "kernelspec": {
   "display_name": "pythonEIT",
   "language": "python",
   "name": "python3"
  },
  "language_info": {
   "codemirror_mode": {
    "name": "ipython",
    "version": 3
   },
   "file_extension": ".py",
   "mimetype": "text/x-python",
   "name": "python",
   "nbconvert_exporter": "python",
   "pygments_lexer": "ipython3",
   "version": "3.12.3"
  }
 },
 "nbformat": 4,
 "nbformat_minor": 5
}
