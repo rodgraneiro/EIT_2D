{
 "cells": [
  {
   "cell_type": "code",
   "execution_count": 22,
   "id": "1c05ef00",
   "metadata": {},
   "outputs": [],
   "source": [
    "import numpy as np\n",
    "import mesh"
   ]
  },
  {
   "cell_type": "markdown",
   "id": "b9bc7e70",
   "metadata": {},
   "source": [
    "# EXEMPLOS BIBLIOTECA EDSON"
   ]
  },
  {
   "cell_type": "code",
   "execution_count": 23,
   "id": "d523a5f6",
   "metadata": {},
   "outputs": [
    {
     "name": "stdout",
     "output_type": "stream",
     "text": [
      "Reading ../../malhasMSH/circ2_tst_Hua_v2_2_lc_especial.msh.\n",
      "\n",
      "msh_physical_groups found (type triangle): [1000 1000 1000 1000 1000 1000 1000 1000 1000 1000 1000 1000 1000 1000\n",
      " 1000 1000 1000 1000].\n",
      "Physical tags found (type triangle): [1000].\n",
      "Physical tags: lines: [5001 5002]; points: [10000]\n",
      "2 electrodes found.\n",
      "MSH file with 18 elements and 17 nodes.\n",
      "ElectrodeNodes: [17 18]\n",
      "26 Elements and 19 Nodes found on model.\n",
      "GndNode: 10\n",
      "4 11 16\n",
      "KGeo1 [[ 0.03498348  0.00035101 -0.03533448]\n",
      " [ 0.00035101  0.00286201 -0.00546489]\n",
      " [-0.03533448 -0.00546489  0.0385475 ]]\n",
      "9 13 15\n",
      "KGeo1 [[ 0.03498348  0.00035101 -0.03533448]\n",
      " [ 0.00035101  0.00286201 -0.00546489]\n",
      " [-0.03533448 -0.00546489  0.0385475 ]]\n",
      "14 0 16\n",
      "KGeo1 [[ 0.00286201  0.00035101 -0.00321302]\n",
      " [ 0.00035101  0.03498348 -0.00569177]\n",
      " [-0.00321302 -0.00569177  0.0385475 ]]\n",
      "12 5 15\n",
      "KGeo1 [[ 0.00286201  0.00035101 -0.00321302]\n",
      " [ 0.00035101  0.03498348 -0.00569177]\n",
      " [-0.00321302 -0.00569177  0.0385475 ]]\n",
      "8 9 15\n",
      "KGeo1 [[ 0.08029881 -0.07819706 -0.00210175]\n",
      " [-0.07819706  0.07739568 -0.00049717]\n",
      " [-0.00210175 -0.00049717  0.00130036]]\n",
      "3 4 16\n",
      "KGeo1 [[ 0.08029881 -0.07819706 -0.00210175]\n",
      " [-0.07819706  0.07739568 -0.00049717]\n",
      " [-0.00210175 -0.00049717  0.00130036]]\n",
      "5 6 15\n",
      "KGeo1 [[ 0.07739568 -0.07819706  0.00080139]\n",
      " [-0.07819706  0.08029881  0.00049392]\n",
      " [ 0.00080139  0.00049392  0.00130036]]\n",
      "0 1 16\n",
      "KGeo1 [[ 0.07739568 -0.07819706  0.00080139]\n",
      " [-0.07819706  0.08029881  0.00049392]\n",
      " [ 0.00080139  0.00049392  0.00130036]]\n",
      "10 11 12\n",
      "KGeo1 [[ 0.01096182 -0.00548091 -0.00548091]\n",
      " [-0.00548091  0.01186303  0.00274046]\n",
      " [-0.00548091  0.00274046  0.01186303]]\n",
      "14 10 13\n",
      "KGeo1 [[ 0.01186303 -0.00548091 -0.00638211]\n",
      " [-0.00548091  0.01096182 -0.00548091]\n",
      " [-0.00638211 -0.00548091  0.01186303]]\n",
      "11 10 16\n",
      "KGeo1 [[ 0.00848951 -0.0030086  -0.00548091]\n",
      " [-0.0030086   0.01284546  0.00194238]\n",
      " [-0.00548091  0.00194238  0.01531777]]\n",
      "13 10 15\n",
      "KGeo1 [[ 0.00848951 -0.0030086  -0.00548091]\n",
      " [-0.0030086   0.01284546  0.00194238]\n",
      " [-0.00548091  0.00194238  0.01531777]]\n",
      "10 12 15\n",
      "KGeo1 [[ 0.01284546 -0.0030086  -0.00983685]\n",
      " [-0.0030086   0.00848951 -0.00548091]\n",
      " [-0.00983685 -0.00548091  0.01531777]]\n",
      "10 14 16\n",
      "KGeo1 [[ 0.01284546 -0.0030086  -0.00983685]\n",
      " [-0.0030086   0.00848951 -0.00548091]\n",
      " [-0.00983685 -0.00548091  0.01531777]]\n",
      "1 2 16\n",
      "KGeo1 [[ 0.07667498 -0.0765083  -0.00016668]\n",
      " [-0.0765083   0.07764619  0.00016632]\n",
      " [-0.00016668  0.00016632  0.00130457]]\n",
      "2 3 16\n",
      "KGeo1 [[ 0.07764619 -0.0765083  -0.00113789]\n",
      " [-0.0765083   0.07667498 -0.00016668]\n",
      " [-0.00113789 -0.00016668  0.00130457]]\n",
      "6 7 15\n",
      "KGeo1 [[ 0.07667498 -0.0765083  -0.00016668]\n",
      " [-0.0765083   0.07764619  0.00016632]\n",
      " [-0.00016668  0.00016632  0.00130457]]\n",
      "7 8 15\n",
      "KGeo1 [[ 0.07764619 -0.0765083  -0.00113789]\n",
      " [-0.0765083   0.07667498 -0.00016668]\n",
      " [-0.00113789 -0.00016668  0.00130457]]\n",
      "KGeo_Hua [[ 3.33317901e-05  1.66658951e-05 -4.99976852e-05]\n",
      " [ 1.66658951e-05  3.33317901e-05 -4.99976852e-05]\n",
      " [-4.99976852e-05 -4.99976852e-05  9.99953704e-05]]\n",
      "KGeo_Hua [[ 3.33317901e-05  1.66658951e-05 -4.99976852e-05]\n",
      " [ 1.66658951e-05  3.33317901e-05 -4.99976852e-05]\n",
      " [-4.99976852e-05 -4.99976852e-05  9.99953704e-05]]\n",
      "KGeo_Hua [[ 3.33317901e-05  1.66658951e-05 -4.99976852e-05]\n",
      " [ 1.66658951e-05  3.33317901e-05 -4.99976852e-05]\n",
      " [-4.99976852e-05 -4.99976852e-05  9.99953704e-05]]\n",
      "KGeo_Hua [[ 3.33317901e-05  1.66658951e-05 -4.99976852e-05]\n",
      " [ 1.66658951e-05  3.33317901e-05 -4.99976852e-05]\n",
      " [-4.99976852e-05 -4.99976852e-05  9.99953704e-05]]\n",
      "KGeo_Hua [[ 3.33317901e-05  1.66658951e-05 -4.99976852e-05]\n",
      " [ 1.66658951e-05  3.33317901e-05 -4.99976852e-05]\n",
      " [-4.99976852e-05 -4.99976852e-05  9.99953704e-05]]\n",
      "KGeo_Hua [[ 3.33317901e-05  1.66658951e-05 -4.99976852e-05]\n",
      " [ 1.66658951e-05  3.33317901e-05 -4.99976852e-05]\n",
      " [-4.99976852e-05 -4.99976852e-05  9.99953704e-05]]\n",
      "KGeo_Hua [[ 3.33317901e-05  1.66658951e-05 -4.99976852e-05]\n",
      " [ 1.66658951e-05  3.33317901e-05 -4.99976852e-05]\n",
      " [-4.99976852e-05 -4.99976852e-05  9.99953704e-05]]\n",
      "KGeo_Hua [[ 3.33317901e-05  1.66658951e-05 -4.99976852e-05]\n",
      " [ 1.66658951e-05  3.33317901e-05 -4.99976852e-05]\n",
      " [-4.99976852e-05 -4.99976852e-05  9.99953704e-05]]\n"
     ]
    }
   ],
   "source": [
    "nome = '../../malhasMSH/circ2_tst_Hua_v2_2_lc_especial.msh'\n",
    "#nome = '../../malhasMSH/circ8_anom4_tst_Hua_v2_2_lc_especial.msh'\n",
    "\n",
    "MinhaMalha = mesh.HuaElectrodes2DMeshEdson(2, nome_msh=nome, altura2D = 0.02)\n",
    "MinhaMalha.ReadMesh() "
   ]
  },
  {
   "cell_type": "code",
   "execution_count": 24,
   "id": "7427a281",
   "metadata": {},
   "outputs": [
    {
     "name": "stdout",
     "output_type": "stream",
     "text": [
      "None\n"
     ]
    }
   ],
   "source": [
    "print(MinhaMalha.KGlobal)"
   ]
  },
  {
   "cell_type": "code",
   "execution_count": 25,
   "id": "9660fe67",
   "metadata": {},
   "outputs": [
    {
     "name": "stdout",
     "output_type": "stream",
     "text": [
      "<elements.LinearTriangle object at 0x0000029CEF3A60D0>\n",
      "Centroid: [ 0.11114379 -0.04717695  0.        ]\n",
      "KGeo: \n",
      "[[ 0.00286201  0.00035101 -0.00321302]\n",
      " [ 0.00035101  0.03498348 -0.00569177]\n",
      " [-0.00321302 -0.00569177  0.0385475 ]]\n"
     ]
    }
   ],
   "source": [
    "print(MinhaMalha.Elements[2])\n",
    "print(f\"Centroid: {MinhaMalha.Elements[2].Centroid}\")\n",
    "print(f\"KGeo: \\n{MinhaMalha.Elements[2].KGeo}\")"
   ]
  },
  {
   "cell_type": "code",
   "execution_count": 26,
   "id": "cb8459f1",
   "metadata": {},
   "outputs": [
    {
     "name": "stdout",
     "output_type": "stream",
     "text": [
      "CHAVES recebidas em dic: [1000, 5001, 5002]\n",
      "KGlobal [0. 0. 0. 0. 0. 0. 0. 0. 0. 0. 0. 0. 0. 0. 0. 0. 0. 0. 0.]\n"
     ]
    }
   ],
   "source": [
    "meus_sigmas = {}\n",
    "meus_sigmas[1000] = 0.1\n",
    "meus_sigmas[5001] = 0.2\n",
    "meus_sigmas[5002] = 0.2\n",
    "MinhaMalha.SetSigmaPhysicaEntity(meus_sigmas) # Informando sigma (e já calculando o rho de cada elemento)\n",
    "\n",
    "MinhaMalha.CalcKGlobal() # calculando KGlobal usando Sigmas\n",
    "\n",
    "MinhaMalha.KGlobal\n",
    "\n",
    "\n",
    "\n",
    "\n",
    "KGlobal =  MinhaMalha.KGlobal\n",
    "\n",
    "print('KGlobal', KGlobal[17])"
   ]
  },
  {
   "cell_type": "code",
   "execution_count": 27,
   "id": "35bf9a32",
   "metadata": {},
   "outputs": [
    {
     "name": "stdout",
     "output_type": "stream",
     "text": [
      "CHAVES recebidas em dic: [1000]\n"
     ]
    },
    {
     "ename": "KeyError",
     "evalue": "np.int32(5001)",
     "output_type": "error",
     "traceback": [
      "\u001b[31m---------------------------------------------------------------------------\u001b[39m",
      "\u001b[31mKeyError\u001b[39m                                  Traceback (most recent call last)",
      "\u001b[36mCell\u001b[39m\u001b[36m \u001b[39m\u001b[32mIn[27]\u001b[39m\u001b[32m, line 5\u001b[39m\n\u001b[32m      3\u001b[39m meus_sigmas[\u001b[32m1000\u001b[39m] = \u001b[32m0.1\u001b[39m\n\u001b[32m      4\u001b[39m \u001b[38;5;66;03m#meus_sigmas[2] = 0.2\u001b[39;00m\n\u001b[32m----> \u001b[39m\u001b[32m5\u001b[39m \u001b[43mMinhaMalha\u001b[49m\u001b[43m.\u001b[49m\u001b[43mSetSigmaPhysicaEntity\u001b[49m\u001b[43m(\u001b[49m\u001b[43mmeus_sigmas\u001b[49m\u001b[43m)\u001b[49m \u001b[38;5;66;03m# Informando sigma (e já calculando o rho de cada elemento)\u001b[39;00m\n\u001b[32m      6\u001b[39m \u001b[33;03m''''''\u001b[39;00m\n",
      "\u001b[36mFile \u001b[39m\u001b[32md:\\Git_EIT_2D\\EIT_2D\\exemplos\\biblioteca_Edson\\mesh.py:85\u001b[39m, in \u001b[36mMyMesh.SetSigmaPhysicaEntity\u001b[39m\u001b[34m(self, dic)\u001b[39m\n\u001b[32m     83\u001b[39m \u001b[38;5;28;01mfor\u001b[39;00m idx \u001b[38;5;129;01min\u001b[39;00m \u001b[38;5;28mrange\u001b[39m(\u001b[38;5;28mself\u001b[39m.NumberOfElements):\n\u001b[32m     84\u001b[39m     tag = \u001b[38;5;28mself\u001b[39m.Elements[idx].PhysicalEntity\n\u001b[32m---> \u001b[39m\u001b[32m85\u001b[39m     \u001b[38;5;28mself\u001b[39m.Elements[idx].SetSigma(\u001b[43mdic\u001b[49m\u001b[43m[\u001b[49m\u001b[43mtag\u001b[49m\u001b[43m]\u001b[49m)\n",
      "\u001b[31mKeyError\u001b[39m: np.int32(5001)"
     ]
    }
   ],
   "source": [
    "''''''\n",
    "meus_sigmas = {}\n",
    "meus_sigmas[1000] = 0.1\n",
    "#meus_sigmas[2] = 0.2\n",
    "MinhaMalha.SetSigmaPhysicaEntity(meus_sigmas) # Informando sigma (e já calculando o rho de cada elemento)\n",
    "''''''"
   ]
  },
  {
   "cell_type": "code",
   "execution_count": null,
   "id": "bcaa4490",
   "metadata": {},
   "outputs": [],
   "source": [
    "#MinhaMalha.CalcKGlobal() # calculando KGlobal usando Sigmas"
   ]
  },
  {
   "cell_type": "code",
   "execution_count": null,
   "id": "9ab96413",
   "metadata": {},
   "outputs": [],
   "source": [
    "#MinhaMalha.KGlobal"
   ]
  },
  {
   "cell_type": "markdown",
   "id": "6a414139",
   "metadata": {},
   "source": [
    "# EXEMPLOS BIBLIOTECAS OLD"
   ]
  },
  {
   "cell_type": "code",
   "execution_count": null,
   "id": "5299a1b7",
   "metadata": {},
   "outputs": [
    {
     "data": {
      "text/plain": [
       "\"\\nnome = '../../malhasMSH/circ8_anomalia5.msh'\\n\\nMinhaMalha = mesh.PointElectrodes2DMeshEdson(8, nome_msh=nome, altura2D = 0.02)\\nMinhaMalha.ReadMesh()\\n\""
      ]
     },
     "execution_count": 7,
     "metadata": {},
     "output_type": "execute_result"
    }
   ],
   "source": [
    "'''\n",
    "nome = '../../malhasMSH/circ8_anomalia5.msh'\n",
    "\n",
    "MinhaMalha = mesh.PointElectrodes2DMeshEdson(8, nome_msh=nome, altura2D = 0.02)\n",
    "MinhaMalha.ReadMesh()\n",
    "'''"
   ]
  },
  {
   "cell_type": "code",
   "execution_count": null,
   "id": "3781e10d",
   "metadata": {},
   "outputs": [
    {
     "data": {
      "text/plain": [
       "'\\nprint(MinhaMalha.Elements[2])\\nprint(f\"Centroid: {MinhaMalha.Elements[2].Centroid}\")\\nprint(f\"KGeo: \\n{MinhaMalha.Elements[2].KGeo}\")\\n'"
      ]
     },
     "execution_count": 8,
     "metadata": {},
     "output_type": "execute_result"
    }
   ],
   "source": [
    "'''\n",
    "print(MinhaMalha.Elements[2])\n",
    "print(f\"Centroid: {MinhaMalha.Elements[2].Centroid}\")\n",
    "print(f\"KGeo: \\n{MinhaMalha.Elements[2].KGeo}\")\n",
    "'''"
   ]
  },
  {
   "cell_type": "code",
   "execution_count": null,
   "id": "afbc698f",
   "metadata": {},
   "outputs": [
    {
     "data": {
      "text/plain": [
       "'\\nmeus_sigmas = {}\\nmeus_sigmas[1] = 0.1\\nmeus_sigmas[2] = 0.2\\nMinhaMalha.SetSigmaPhysicaEntity(meus_sigmas) # Informando sigma (e já calculando o rho de cada elemento)\\n'"
      ]
     },
     "execution_count": 9,
     "metadata": {},
     "output_type": "execute_result"
    }
   ],
   "source": [
    "'''\n",
    "meus_sigmas = {}\n",
    "meus_sigmas[1] = 0.1\n",
    "meus_sigmas[2] = 0.2\n",
    "MinhaMalha.SetSigmaPhysicaEntity(meus_sigmas) # Informando sigma (e já calculando o rho de cada elemento)\n",
    "'''"
   ]
  },
  {
   "cell_type": "code",
   "execution_count": null,
   "id": "89a32b7b",
   "metadata": {},
   "outputs": [],
   "source": [
    "#MinhaMalha.CalcKGlobal() # calculando KGlobal usando Sigmas"
   ]
  },
  {
   "cell_type": "code",
   "execution_count": null,
   "id": "7941c3b3",
   "metadata": {},
   "outputs": [],
   "source": [
    "#MinhaMalha.KGlobal"
   ]
  },
  {
   "cell_type": "code",
   "execution_count": null,
   "id": "86d672ca",
   "metadata": {},
   "outputs": [
    {
     "data": {
      "text/plain": [
       "'\\nM2 = mesh.PointElectrodes2DMeshEdson(8, nome_msh=nome, altura2D = 0.02)\\nM2.ReadMesh()\\nmeus_rhos = {}\\nmeus_rhos[1] = 10\\nmeus_rhos[2] = 5\\nM2.SetRhoPhysicaEntity(meus_rhos) # Informando rho (e já calculando o sigma de cada elemento)\\nM2.CalcKGlobal() # calculando KGlobal usando Sigmas\\nM2.KGlobal\\n'"
      ]
     },
     "execution_count": 12,
     "metadata": {},
     "output_type": "execute_result"
    }
   ],
   "source": [
    "'''\n",
    "M2 = mesh.PointElectrodes2DMeshEdson(8, nome_msh=nome, altura2D = 0.02)\n",
    "M2.ReadMesh()\n",
    "meus_rhos = {}\n",
    "meus_rhos[1] = 10\n",
    "meus_rhos[2] = 5\n",
    "M2.SetRhoPhysicaEntity(meus_rhos) # Informando rho (e já calculando o sigma de cada elemento)\n",
    "M2.CalcKGlobal() # calculando KGlobal usando Sigmas\n",
    "M2.KGlobal\n",
    "'''"
   ]
  },
  {
   "cell_type": "code",
   "execution_count": null,
   "id": "9dd589ee",
   "metadata": {},
   "outputs": [
    {
     "data": {
      "text/plain": [
       "'\\nM3 = mesh.PointElectrodes2DMeshEdson(8, nome_msh=nome, altura2D = 0.02)\\nM3.ReadMesh()\\nmeus_rhos = {}\\nmeus_rhos[1] = 10\\nmeus_rhos[2] = 5\\nM3.SetRhoPhysicaEntity(meus_rhos) # Informando rho (e já calculando o sigma de cada elemento)\\nM3.FlagRhoBased = True\\nM3.CalcKGlobal() # calculando KGlobal usando Rho\\nM3.KGlobal\\n'"
      ]
     },
     "execution_count": 13,
     "metadata": {},
     "output_type": "execute_result"
    }
   ],
   "source": [
    "'''\n",
    "M3 = mesh.PointElectrodes2DMeshEdson(8, nome_msh=nome, altura2D = 0.02)\n",
    "M3.ReadMesh()\n",
    "meus_rhos = {}\n",
    "meus_rhos[1] = 10\n",
    "meus_rhos[2] = 5\n",
    "M3.SetRhoPhysicaEntity(meus_rhos) # Informando rho (e já calculando o sigma de cada elemento)\n",
    "M3.FlagRhoBased = True\n",
    "M3.CalcKGlobal() # calculando KGlobal usando Rho\n",
    "M3.KGlobal\n",
    "'''"
   ]
  },
  {
   "cell_type": "code",
   "execution_count": null,
   "id": "88b9fa03",
   "metadata": {},
   "outputs": [
    {
     "data": {
      "text/plain": [
       "'\\nM4 = mesh.PointElectrodes2DMeshEdson(8, nome_msh=nome, altura2D = 0.02)\\nM4.ReadMesh()\\nmeus_sigmas = {}\\nmeus_sigmas[1] = 0.1\\nmeus_sigmas[2] = 0.2\\nM4.SetSigmaPhysicaEntity(meus_sigmas) # Informando sigma (e já calculando o rho de cada elemento)\\nM4.FlagRhoBased = True\\nM4.CalcKGlobal() # calculando KGlobal usando Rho\\nM4.KGlobal\\n'"
      ]
     },
     "execution_count": 14,
     "metadata": {},
     "output_type": "execute_result"
    }
   ],
   "source": [
    "'''\n",
    "M4 = mesh.PointElectrodes2DMeshEdson(8, nome_msh=nome, altura2D = 0.02)\n",
    "M4.ReadMesh()\n",
    "meus_sigmas = {}\n",
    "meus_sigmas[1] = 0.1\n",
    "meus_sigmas[2] = 0.2\n",
    "M4.SetSigmaPhysicaEntity(meus_sigmas) # Informando sigma (e já calculando o rho de cada elemento)\n",
    "M4.FlagRhoBased = True\n",
    "M4.CalcKGlobal() # calculando KGlobal usando Rho\n",
    "M4.KGlobal\n",
    "'''"
   ]
  },
  {
   "cell_type": "code",
   "execution_count": null,
   "id": "5d6af136",
   "metadata": {},
   "outputs": [],
   "source": [
    "# M4"
   ]
  },
  {
   "cell_type": "markdown",
   "id": "5ff8ce4c",
   "metadata": {},
   "source": [
    "Comparação ajustando por valores, physical grous ou vetores"
   ]
  },
  {
   "cell_type": "code",
   "execution_count": null,
   "id": "e2d37cd8",
   "metadata": {},
   "outputs": [
    {
     "data": {
      "text/plain": [
       "'\\nMpg = mesh.PointElectrodes2DMeshEdson(8, nome_msh=nome, altura2D = 0.02)\\nMpg.ReadMesh()\\nmeus_sigmas = {}\\nmeus_sigmas[1] = 0.1\\nmeus_sigmas[2] = 0.1\\nMpg.SetSigmaPhysicaEntity(meus_sigmas) # Informando sigma (e já calculando o rho de cada elemento)\\nMpg.FlagRhoBased = True\\nMpg.CalcKGlobal() # calculando KGlobal usando Rho\\nMpg.KGlobal\\n'"
      ]
     },
     "execution_count": 16,
     "metadata": {},
     "output_type": "execute_result"
    }
   ],
   "source": [
    "'''\n",
    "Mpg = mesh.PointElectrodes2DMeshEdson(8, nome_msh=nome, altura2D = 0.02)\n",
    "Mpg.ReadMesh()\n",
    "meus_sigmas = {}\n",
    "meus_sigmas[1] = 0.1\n",
    "meus_sigmas[2] = 0.1\n",
    "Mpg.SetSigmaPhysicaEntity(meus_sigmas) # Informando sigma (e já calculando o rho de cada elemento)\n",
    "Mpg.FlagRhoBased = True\n",
    "Mpg.CalcKGlobal() # calculando KGlobal usando Rho\n",
    "Mpg.KGlobal\n",
    "'''"
   ]
  },
  {
   "cell_type": "code",
   "execution_count": null,
   "id": "d5a32f36",
   "metadata": {},
   "outputs": [
    {
     "data": {
      "text/plain": [
       "'\\nMval = mesh.PointElectrodes2DMeshEdson(8, nome_msh=nome, altura2D = 0.02)\\nMval.ReadMesh()\\nvalue = 0.1\\nMval.SetSigmaValue(value) # Informando sigma (e já calculando o rho de cada elemento)\\nMval.FlagRhoBased = True\\nMval.CalcKGlobal() # calculando KGlobal usando Rho\\nMval.KGlobal\\n'"
      ]
     },
     "execution_count": 17,
     "metadata": {},
     "output_type": "execute_result"
    }
   ],
   "source": [
    "'''\n",
    "Mval = mesh.PointElectrodes2DMeshEdson(8, nome_msh=nome, altura2D = 0.02)\n",
    "Mval.ReadMesh()\n",
    "value = 0.1\n",
    "Mval.SetSigmaValue(value) # Informando sigma (e já calculando o rho de cada elemento)\n",
    "Mval.FlagRhoBased = True\n",
    "Mval.CalcKGlobal() # calculando KGlobal usando Rho\n",
    "Mval.KGlobal\n",
    "'''"
   ]
  },
  {
   "cell_type": "code",
   "execution_count": null,
   "id": "ec4fb005",
   "metadata": {},
   "outputs": [
    {
     "data": {
      "text/plain": [
       "'\\nMvec = mesh.PointElectrodes2DMeshEdson(8, nome_msh=nome, altura2D = 0.02)\\nMvec.ReadMesh()\\nvec = np.ones(Mvec.NumberOfElements) * 0.1\\nMvec.SetSigmaElements(vec) # Informando sigma (e já calculando o rho de cada elemento)\\nMvec.FlagRhoBased = True\\nMvec.CalcKGlobal() # calculando KGlobal usando Rho\\nMvec.KGlobal\\n'"
      ]
     },
     "execution_count": 18,
     "metadata": {},
     "output_type": "execute_result"
    }
   ],
   "source": [
    "'''\n",
    "Mvec = mesh.PointElectrodes2DMeshEdson(8, nome_msh=nome, altura2D = 0.02)\n",
    "Mvec.ReadMesh()\n",
    "vec = np.ones(Mvec.NumberOfElements) * 0.1\n",
    "Mvec.SetSigmaElements(vec) # Informando sigma (e já calculando o rho de cada elemento)\n",
    "Mvec.FlagRhoBased = True\n",
    "Mvec.CalcKGlobal() # calculando KGlobal usando Rho\n",
    "Mvec.KGlobal\n",
    "'''"
   ]
  },
  {
   "cell_type": "code",
   "execution_count": null,
   "id": "d51b85c8",
   "metadata": {},
   "outputs": [],
   "source": []
  }
 ],
 "metadata": {
  "kernelspec": {
   "display_name": "venv_EIT2D",
   "language": "python",
   "name": "python3"
  },
  "language_info": {
   "codemirror_mode": {
    "name": "ipython",
    "version": 3
   },
   "file_extension": ".py",
   "mimetype": "text/x-python",
   "name": "python",
   "nbconvert_exporter": "python",
   "pygments_lexer": "ipython3",
   "version": "3.11.4"
  }
 },
 "nbformat": 4,
 "nbformat_minor": 5
}
