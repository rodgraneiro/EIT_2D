{
 "cells": [
  {
   "cell_type": "code",
   "execution_count": 1,
   "id": "7ecc0617",
   "metadata": {},
   "outputs": [
    {
     "name": "stdout",
     "output_type": "stream",
     "text": [
      "Requirement already satisfied: gmsh in d:\\git_eit_2d\\venv_eit2d\\lib\\site-packages (4.14.0)\n",
      "Note: you may need to restart the kernel to use updated packages.\n"
     ]
    },
    {
     "name": "stderr",
     "output_type": "stream",
     "text": [
      "\n",
      "[notice] A new release of pip is available: 23.1.2 -> 25.2\n",
      "[notice] To update, run: python.exe -m pip install --upgrade pip\n"
     ]
    }
   ],
   "source": [
    "pip install gmsh"
   ]
  },
  {
   "cell_type": "code",
   "execution_count": 2,
   "id": "13e6acf6",
   "metadata": {},
   "outputs": [],
   "source": [
    "import numpy as np\n",
    "import gmsh # para instalar: pip install gmsh"
   ]
  },
  {
   "cell_type": "markdown",
   "id": "a5bfc255",
   "metadata": {},
   "source": [
    "## Exemplo t1 do gmsh"
   ]
  },
  {
   "cell_type": "code",
   "execution_count": 3,
   "id": "5d017a78",
   "metadata": {},
   "outputs": [],
   "source": [
    "# O exemplo t1 é uma malha retangular com 2 entidades físicas, 1 linha e 1 superfície\n",
    "# retirado de: https://gitlab.onelab.info/gmsh/gmsh/-/tree/master/tutorials/python\n",
    "def run_t1(view=False, oldversion=True, name='t1'):\n",
    "    # inicializa API\n",
    "    gmsh.initialize()\n",
    "    gmsh.model.add(name)\n",
    "    # definindo os pontos da geometria do modelo\n",
    "    lc = 1e-2\n",
    "    p1 = gmsh.model.geo.addPoint(0, 0, 0, lc)\n",
    "    p2 = gmsh.model.geo.addPoint(.1, 0, 0, lc)\n",
    "    p3 = gmsh.model.geo.addPoint(.1, .3, 0, lc)\n",
    "    p4 = gmsh.model.geo.addPoint(0, .3, 0, lc)\n",
    "    # definindo as linhas que ligam os pontos\n",
    "    l1 = gmsh.model.geo.addLine(p1,p2)\n",
    "    l2 = gmsh.model.geo.addLine(p3,p2) # repare que os pontos estão invertidos\n",
    "    l3 = gmsh.model.geo.addLine(p3,p4)\n",
    "    l4 = gmsh.model.geo.addLine(p4,p1)\n",
    "    # definindo uma CurveLoop, ligando as linhas\n",
    "    cl1 = gmsh.model.geo.addCurveLoop([l4, l1, -l2, l3]) # repare o sinal negativo de l2, para fechar adequadamente o loop\n",
    "    # definindo uma superfície plana, no caso formada por apenas uma CurveLoop (pode ser mais de uma)\n",
    "    ps1 = gmsh.model.geo.addPlaneSurface([cl1])\n",
    "    # criando as estruturas de dados do gmsh\n",
    "    gmsh.model.geo.synchronize()\n",
    "    # definindo as entidades físicas\n",
    "    phg1 = gmsh.model.addPhysicalGroup(1, [l1, l2, l4]) # entidade física 1D (linhas)\n",
    "    phg2 = gmsh.model.addPhysicalGroup(2, [ps1], name=\"My surface\") # entidade física 2D (superfície)\n",
    "    # gerando malha 2D\n",
    "    gmsh.model.mesh.generate(2)\n",
    "    # gravando malha\n",
    "    if oldversion:\n",
    "        gmsh.option.setNumber(\"Mesh.MshFileVersion\",2.2)\n",
    "    gmsh.write(f'malhas/{name}.msh')\n",
    "    if view:\n",
    "        # se quiser visualizar no gmsh\n",
    "        gmsh.fltk.run()\n",
    "    # Ao final, finalizar API do gmsh\n",
    "    gmsh.finalize()\n",
    "    "
   ]
  },
  {
   "cell_type": "code",
   "execution_count": 4,
   "id": "d8e618c0",
   "metadata": {},
   "outputs": [],
   "source": [
    "run_t1()"
   ]
  },
  {
   "cell_type": "markdown",
   "id": "1890ea7c",
   "metadata": {},
   "source": [
    "## Exemplos de manipulação de malhas"
   ]
  },
  {
   "cell_type": "code",
   "execution_count": 5,
   "id": "1704554b",
   "metadata": {},
   "outputs": [],
   "source": [
    "import gmsh_util as gu"
   ]
  },
  {
   "cell_type": "code",
   "execution_count": 6,
   "id": "1ef71b36",
   "metadata": {},
   "outputs": [
    {
     "name": "stdout",
     "output_type": "stream",
     "text": [
      "Creting mesh malhas/circular_el8_r0.10_lc0.01_v2.2.msh\n"
     ]
    }
   ],
   "source": [
    "# Cria malha circular com 8 eletrodos pontuais no formato antigo (v2.2)\n",
    "name_msh = gu.create_2D_circular_mesh_point_electrodes(8)"
   ]
  },
  {
   "cell_type": "code",
   "execution_count": 7,
   "id": "0441693f",
   "metadata": {},
   "outputs": [
    {
     "name": "stdout",
     "output_type": "stream",
     "text": [
      "Creting mesh malhas/circular_el8_r0.10_lc0.01_v4.1.msh\n"
     ]
    }
   ],
   "source": [
    "# Cria malha circular com 8 eletrodos pontuais no formato novo (v4.1)\n",
    "name_msh_new = gu.create_2D_circular_mesh_point_electrodes(8, oldversion=False)"
   ]
  },
  {
   "cell_type": "code",
   "execution_count": 8,
   "id": "767f84d4",
   "metadata": {},
   "outputs": [
    {
     "name": "stdout",
     "output_type": "stream",
     "text": [
      "Nó central encontrado (nó [1]). Coords: [0. 0. 0.]\n",
      "Eletrodo 1 encontrado (nó [2]). Coords: [0.1 0.  0. ]\n",
      "Eletrodo 2 encontrado (nó [3]). Coords: [0.07071068 0.07071068 0.        ]\n",
      "Eletrodo 3 encontrado (nó [4]). Coords: [6.123234e-18 1.000000e-01 0.000000e+00]\n",
      "Eletrodo 4 encontrado (nó [5]). Coords: [-0.07071068  0.07071068  0.        ]\n",
      "Eletrodo 5 encontrado (nó [6]). Coords: [-1.0000000e-01  1.2246468e-17  0.0000000e+00]\n",
      "Eletrodo 6 encontrado (nó [7]). Coords: [-0.07071068 -0.07071068  0.        ]\n",
      "Eletrodo 7 encontrado (nó [8]). Coords: [-1.8369702e-17 -1.0000000e-01  0.0000000e+00]\n",
      "Eletrodo 8 encontrado (nó [9]). Coords: [ 0.07071068 -0.07071068  0.        ]\n",
      "Corpo encontrado. numElem 776 e numNodes 412 coords (1236,)\n",
      "***** Elementos do corpo *****\n",
      "tag_body 1 com 776 elementos, 421 nós e 1263 coordenadas\n",
      "  Bloco com 776 elementos: 10 a 785\n",
      "    Elemento 10, nós 31 80 354:\n",
      "     Nó 31: coordenadas [-0.07730104534828135 0.06343932840173323 0.0]\n",
      "     Nó 80: coordenadas [-0.07339772681611187 0.05443546414806007 0.0]\n",
      "     Nó 354: coordenadas [-0.06545891738088838 0.06234690116315225 0.0]\n",
      "    Elemento 11, nós 26 27 360:\n",
      "     Nó 26: coordenadas [-0.02902846781063757 0.09569403354737838 0.0]\n",
      "     Nó 27: coordenadas [-0.03826834334202592 0.09238795320742213 0.0]\n",
      "     Nó 360: coordenadas [-0.02971747799235212 0.08305478680117433 0.0]\n",
      "    Elemento 784, nós 79 399 420:\n",
      "     Nó 79: coordenadas [-0.09013455146503262 0.00511035514585045 0.0]\n",
      "     Nó 399: coordenadas [-0.09303532376669989 -0.003448691185094682 0.0]\n",
      "     Nó 420: coordenadas [-0.08641021240637274 -0.00193370115831489 0.0]\n",
      "    Elemento 785, nós 354 405 413:\n",
      "     Nó 354: coordenadas [-0.06545891738088838 0.06234690116315225 0.0]\n",
      "     Nó 405: coordenadas [-0.05603430991209835 0.06619320150265814 0.0]\n",
      "     Nó 413: coordenadas [-0.06303809051758127 0.07001686376826433 0.0]\n"
     ]
    }
   ],
   "source": [
    "# mostra informações da malha antiga\n",
    "gu.show_mesh_data(name_msh)"
   ]
  },
  {
   "cell_type": "code",
   "execution_count": 9,
   "id": "b0ac7ee6",
   "metadata": {},
   "outputs": [
    {
     "name": "stdout",
     "output_type": "stream",
     "text": [
      "Nó central encontrado (nó [1]). Coords: [0. 0. 0.]\n",
      "Eletrodo 1 encontrado (nó [2]). Coords: [0.1 0.  0. ]\n",
      "Eletrodo 2 encontrado (nó [3]). Coords: [0.07071068 0.07071068 0.        ]\n",
      "Eletrodo 3 encontrado (nó [4]). Coords: [6.123234e-18 1.000000e-01 0.000000e+00]\n",
      "Eletrodo 4 encontrado (nó [5]). Coords: [-0.07071068  0.07071068  0.        ]\n",
      "Eletrodo 5 encontrado (nó [6]). Coords: [-1.0000000e-01  1.2246468e-17  0.0000000e+00]\n",
      "Eletrodo 6 encontrado (nó [7]). Coords: [-0.07071068 -0.07071068  0.        ]\n",
      "Eletrodo 7 encontrado (nó [8]). Coords: [-1.8369702e-17 -1.0000000e-01  0.0000000e+00]\n",
      "Eletrodo 8 encontrado (nó [9]). Coords: [ 0.07071068 -0.07071068  0.        ]\n",
      "Corpo encontrado. numElem 776 e numNodes 356 coords (1068,)\n",
      "***** Elementos do corpo *****\n",
      "tag_body 1 com 776 elementos, 421 nós e 1263 coordenadas\n",
      "  Bloco com 776 elementos: 10 a 785\n",
      "    Elemento 10, nós 31 80 354:\n",
      "     Nó 31: coordenadas [-0.07730104534828135 0.06343932840173323 0.0]\n",
      "     Nó 80: coordenadas [-0.07339772681611187 0.05443546414806007 0.0]\n",
      "     Nó 354: coordenadas [-0.06545891738088838 0.06234690116315225 0.0]\n",
      "    Elemento 11, nós 26 27 360:\n",
      "     Nó 26: coordenadas [-0.02902846781063757 0.09569403354737838 0.0]\n",
      "     Nó 27: coordenadas [-0.03826834334202592 0.09238795320742213 0.0]\n",
      "     Nó 360: coordenadas [-0.02971747799235212 0.08305478680117433 0.0]\n",
      "    Elemento 784, nós 79 399 420:\n",
      "     Nó 79: coordenadas [-0.09013455146503262 0.00511035514585045 0.0]\n",
      "     Nó 399: coordenadas [-0.09303532376669989 -0.003448691185094682 0.0]\n",
      "     Nó 420: coordenadas [-0.08641021240637274 -0.00193370115831489 0.0]\n",
      "    Elemento 785, nós 354 405 413:\n",
      "     Nó 354: coordenadas [-0.06545891738088838 0.06234690116315225 0.0]\n",
      "     Nó 405: coordenadas [-0.05603430991209835 0.06619320150265814 0.0]\n",
      "     Nó 413: coordenadas [-0.06303809051758127 0.07001686376826433 0.0]\n"
     ]
    }
   ],
   "source": [
    "# mostra informações da malha nova\n",
    "gu.show_mesh_data(name_msh_new)"
   ]
  },
  {
   "cell_type": "code",
   "execution_count": 10,
   "id": "aedaba84",
   "metadata": {},
   "outputs": [],
   "source": [
    "# abre qualquer malha na GUI do gmsh para visualização\n",
    "gu.view(name_msh)"
   ]
  }
 ],
 "metadata": {
  "kernelspec": {
   "display_name": "venv_EIT2D",
   "language": "python",
   "name": "python3"
  },
  "language_info": {
   "codemirror_mode": {
    "name": "ipython",
    "version": 3
   },
   "file_extension": ".py",
   "mimetype": "text/x-python",
   "name": "python",
   "nbconvert_exporter": "python",
   "pygments_lexer": "ipython3",
   "version": "3.11.4"
  }
 },
 "nbformat": 4,
 "nbformat_minor": 5
}
