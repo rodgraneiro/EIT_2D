{
 "cells": [
  {
   "cell_type": "code",
   "execution_count": 1,
   "id": "13e6acf6",
   "metadata": {},
   "outputs": [],
   "source": [
    "import numpy as np\n",
    "import gmsh # para instalar: pip install gmsh"
   ]
  },
  {
   "cell_type": "markdown",
   "id": "a5bfc255",
   "metadata": {},
   "source": [
    "## Exemplo t1 do gmsh"
   ]
  },
  {
   "cell_type": "code",
   "execution_count": 2,
   "id": "5d017a78",
   "metadata": {},
   "outputs": [],
   "source": [
    "# O exemplo t1 é uma malha retangular com 2 entidades físicas, 1 linha e 1 superfície\n",
    "# retirado de: https://gitlab.onelab.info/gmsh/gmsh/-/tree/master/tutorials/python\n",
    "def run_t1(view=False, oldversion=True, name='t1'):\n",
    "    # inicializa API\n",
    "    gmsh.initialize()\n",
    "    gmsh.model.add(name)\n",
    "    # definindo os pontos da geometria do modelo\n",
    "    lc = 1e-2\n",
    "    p1 = gmsh.model.geo.addPoint(0, 0, 0, lc)\n",
    "    p2 = gmsh.model.geo.addPoint(.1, 0, 0, lc)\n",
    "    p3 = gmsh.model.geo.addPoint(.1, .3, 0, lc)\n",
    "    p4 = gmsh.model.geo.addPoint(0, .3, 0, lc)\n",
    "    # definindo as linhas que ligam os pontos\n",
    "    l1 = gmsh.model.geo.addLine(p1,p2)\n",
    "    l2 = gmsh.model.geo.addLine(p3,p2) # repare que os pontos estão invertidos\n",
    "    l3 = gmsh.model.geo.addLine(p3,p4)\n",
    "    l4 = gmsh.model.geo.addLine(p4,p1)\n",
    "    # definindo uma CurveLoop, ligando as linhas\n",
    "    cl1 = gmsh.model.geo.addCurveLoop([l4, l1, -l2, l3]) # repare o sinal negativo de l2, para fechar adequadamente o loop\n",
    "    # definindo uma superfície plana, no caso formada por apenas uma CurveLoop (pode ser mais de uma)\n",
    "    ps1 = gmsh.model.geo.addPlaneSurface([cl1])\n",
    "    # criando as estruturas de dados do gmsh\n",
    "    gmsh.model.geo.synchronize()\n",
    "    # definindo as entidades físicas\n",
    "    phg1 = gmsh.model.addPhysicalGroup(1, [l1, l2, l4]) # entidade física 1D (linhas)\n",
    "    phg2 = gmsh.model.addPhysicalGroup(2, [ps1], name=\"My surface\") # entidade física 2D (superfície)\n",
    "    # gerando malha 2D\n",
    "    gmsh.model.mesh.generate(2)\n",
    "    # gravando malha\n",
    "    if oldversion:\n",
    "        gmsh.option.setNumber(\"Mesh.MshFileVersion\",2.2)\n",
    "    gmsh.write(f'malhas/{name}.msh')\n",
    "    if view:\n",
    "        # se quiser visualizar no gmsh\n",
    "        gmsh.fltk.run()\n",
    "    # Ao final, finalizar API do gmsh\n",
    "    gmsh.finalize()\n",
    "    "
   ]
  },
  {
   "cell_type": "code",
   "execution_count": 3,
   "id": "d8e618c0",
   "metadata": {},
   "outputs": [
    {
     "name": "stdout",
     "output_type": "stream",
     "text": [
      "Info    : Meshing 1D...\n",
      "Info    : [  0%] Meshing curve 1 (Line)\n",
      "Info    : [ 30%] Meshing curve 2 (Line)\n",
      "Info    : [ 60%] Meshing curve 3 (Line)\n",
      "Info    : [ 80%] Meshing curve 4 (Line)\n",
      "Info    : Done meshing 1D (Wall 0.000991055s, CPU 0.011762s)\n",
      "Info    : Meshing 2D...\n",
      "Info    : Meshing surface 1 (Plane, Frontal-Delaunay)\n",
      "Info    : Done meshing 2D (Wall 0.0261516s, CPU 0.336349s)\n",
      "Info    : 404 nodes 810 elements\n",
      "Info    : Writing 'malhas/t1.msh'...\n",
      "Info    : Done writing 'malhas/t1.msh'\n"
     ]
    }
   ],
   "source": [
    "run_t1()"
   ]
  },
  {
   "cell_type": "markdown",
   "id": "1890ea7c",
   "metadata": {},
   "source": [
    "## Exemplos de manipulação de malhas"
   ]
  },
  {
   "cell_type": "code",
   "execution_count": 4,
   "id": "1704554b",
   "metadata": {},
   "outputs": [],
   "source": [
    "import gmsh_util as gu"
   ]
  },
  {
   "cell_type": "code",
   "execution_count": 5,
   "id": "1ef71b36",
   "metadata": {},
   "outputs": [
    {
     "name": "stdout",
     "output_type": "stream",
     "text": [
      "Creting mesh malhas/circular_el8_r0.10_lc0.01_v2.2.msh\n",
      "Info    : Meshing 1D...\n",
      "Info    : [  0%] Meshing curve 1 (Circle)\n",
      "Info    : [ 20%] Meshing curve 2 (Circle)\n",
      "Info    : [ 30%] Meshing curve 3 (Circle)\n",
      "Info    : [ 40%] Meshing curve 4 (Circle)\n",
      "Info    : [ 60%] Meshing curve 5 (Circle)\n",
      "Info    : [ 70%] Meshing curve 6 (Circle)\n",
      "Info    : [ 80%] Meshing curve 7 (Circle)\n",
      "Info    : [ 90%] Meshing curve 8 (Circle)\n",
      "Info    : Done meshing 1D (Wall 0.0018017s, CPU 0.02025s)\n",
      "Info    : Meshing 2D...\n",
      "Info    : Meshing surface 1 (Plane, Frontal-Delaunay)\n",
      "Info    : Done meshing 2D (Wall 0.0162658s, CPU 0.126979s)\n",
      "Info    : 421 nodes 849 elements\n",
      "Info    : Writing 'malhas/circular_el8_r0.10_lc0.01_v2.2.msh'...\n",
      "Info    : Done writing 'malhas/circular_el8_r0.10_lc0.01_v2.2.msh'\n"
     ]
    }
   ],
   "source": [
    "# Cria malha circular com 8 eletrodos pontuais no formato antigo (v2.2)\n",
    "name_msh = gu.create_2D_circular_mesh_point_electrodes(8)"
   ]
  },
  {
   "cell_type": "code",
   "execution_count": 6,
   "id": "0441693f",
   "metadata": {},
   "outputs": [
    {
     "name": "stdout",
     "output_type": "stream",
     "text": [
      "Creting mesh malhas/circular_el8_r0.10_lc0.01_v4.1.msh\n",
      "Info    : Meshing 1D...\n",
      "Info    : [  0%] Meshing curve 1 (Circle)\n",
      "Info    : [ 20%] Meshing curve 2 (Circle)\n",
      "Info    : [ 30%] Meshing curve 3 (Circle)\n",
      "Info    : [ 40%] Meshing curve 4 (Circle)\n",
      "Info    : [ 60%] Meshing curve 5 (Circle)\n",
      "Info    : [ 70%] Meshing curve 6 (Circle)\n",
      "Info    : [ 80%] Meshing curve 7 (Circle)\n",
      "Info    : [ 90%] Meshing curve 8 (Circle)\n",
      "Info    : Done meshing 1D (Wall 0.00150426s, CPU 0.002073s)\n",
      "Info    : Meshing 2D...\n",
      "Info    : Meshing surface 1 (Plane, Frontal-Delaunay)\n",
      "Info    : Done meshing 2D (Wall 0.0158494s, CPU 0.016084s)\n",
      "Info    : 421 nodes 849 elements\n",
      "Info    : Writing 'malhas/circular_el8_r0.10_lc0.01_v4.1.msh'...\n",
      "Info    : Done writing 'malhas/circular_el8_r0.10_lc0.01_v4.1.msh'\n"
     ]
    }
   ],
   "source": [
    "# Cria malha circular com 8 eletrodos pontuais no formato novo (v4.1)\n",
    "name_msh_new = gu.create_2D_circular_mesh_point_electrodes(8, oldversion=False)"
   ]
  },
  {
   "cell_type": "code",
   "execution_count": 7,
   "id": "767f84d4",
   "metadata": {},
   "outputs": [
    {
     "name": "stdout",
     "output_type": "stream",
     "text": [
      "Info    : Reading 'malhas/circular_el8_r0.10_lc0.01_v2.2.msh'...\n",
      "Info    : 421 nodes\n",
      "Info    : 785 elements\n",
      "Info    : Done reading 'malhas/circular_el8_r0.10_lc0.01_v2.2.msh'\n",
      "Nó central encontrado (nó [1]). Coords: [0. 0. 0.]\n",
      "Eletrodo 1 encontrado (nó [2]). Coords: [0.1 0.  0. ]\n",
      "Eletrodo 2 encontrado (nó [3]). Coords: [0.07071068 0.07071068 0.        ]\n",
      "Eletrodo 3 encontrado (nó [4]). Coords: [6.123234e-18 1.000000e-01 0.000000e+00]\n",
      "Eletrodo 4 encontrado (nó [5]). Coords: [-0.07071068  0.07071068  0.        ]\n",
      "Eletrodo 5 encontrado (nó [6]). Coords: [-1.0000000e-01  1.2246468e-17  0.0000000e+00]\n",
      "Eletrodo 6 encontrado (nó [7]). Coords: [-0.07071068 -0.07071068  0.        ]\n",
      "Eletrodo 7 encontrado (nó [8]). Coords: [-1.8369702e-17 -1.0000000e-01  0.0000000e+00]\n",
      "Eletrodo 8 encontrado (nó [9]). Coords: [ 0.07071068 -0.07071068  0.        ]\n",
      "Corpo encontrado. numElem 776 e numNodes 412 coords (1236,)\n",
      "***** Elementos do corpo *****\n",
      "tag_body 1 com 776 elementos, 421 nós e 1263 coordenadas\n",
      "  Bloco com 776 elementos: 10 a 785\n",
      "    Elemento 10, nós 296 387 405:\n",
      "     Nó 296: coordenadas [-0.03173111234786189 -0.07234196660120247 0.0]\n",
      "     Nó 387: coordenadas [-0.03720651248292691 -0.08160605945601694 0.0]\n",
      "     Nó 405: coordenadas [-0.02829432056206012 -0.07970427550910986 0.0]\n",
      "    Elemento 11, nós 251 252 295:\n",
      "     Nó 251: coordenadas [-0.02209217392897623 -0.07381220487811378 0.0]\n",
      "     Nó 252: coordenadas [-0.01554346528886373 -0.06706246026450347 0.0]\n",
      "     Nó 295: coordenadas [-0.0259760858081296 -0.06396416913997971 0.0]\n",
      "    Elemento 784, nós 68 375 421:\n",
      "     Nó 68: coordenadas [-0.06735106428005513 -0.06050562544307735 0.0]\n",
      "     Nó 375: coordenadas [-0.06166422435483748 -0.06783099475292886 0.0]\n",
      "     Nó 421: coordenadas [-0.0605705567324637 -0.06142515219440598 0.0]\n",
      "    Elemento 785, nós 393 79 411:\n",
      "     Nó 393: coordenadas [-0.09144367687887539 0.01380952975838493 0.0]\n",
      "     Nó 79: coordenadas [-0.0912707030009765 0.004483842107476281 0.0]\n",
      "     Nó 411: coordenadas [-0.08526304128919164 0.008996787606683664 0.0]\n"
     ]
    }
   ],
   "source": [
    "# mostra informações da malha antiga\n",
    "gu.show_mesh_data(name_msh)"
   ]
  },
  {
   "cell_type": "code",
   "execution_count": 8,
   "id": "b0ac7ee6",
   "metadata": {},
   "outputs": [
    {
     "name": "stdout",
     "output_type": "stream",
     "text": [
      "Info    : Reading 'malhas/circular_el8_r0.10_lc0.01_v4.1.msh'...\n",
      "Info    : 18 entities\n",
      "Info    : 421 nodes\n",
      "Info    : 785 elements\n",
      "Info    : Done reading 'malhas/circular_el8_r0.10_lc0.01_v4.1.msh'\n",
      "Nó central encontrado (nó [1]). Coords: [0. 0. 0.]\n",
      "Eletrodo 1 encontrado (nó [2]). Coords: [0.1 0.  0. ]\n",
      "Eletrodo 2 encontrado (nó [3]). Coords: [0.07071068 0.07071068 0.        ]\n",
      "Eletrodo 3 encontrado (nó [4]). Coords: [6.123234e-18 1.000000e-01 0.000000e+00]\n",
      "Eletrodo 4 encontrado (nó [5]). Coords: [-0.07071068  0.07071068  0.        ]\n",
      "Eletrodo 5 encontrado (nó [6]). Coords: [-1.0000000e-01  1.2246468e-17  0.0000000e+00]\n",
      "Eletrodo 6 encontrado (nó [7]). Coords: [-0.07071068 -0.07071068  0.        ]\n",
      "Eletrodo 7 encontrado (nó [8]). Coords: [-1.8369702e-17 -1.0000000e-01  0.0000000e+00]\n",
      "Eletrodo 8 encontrado (nó [9]). Coords: [ 0.07071068 -0.07071068  0.        ]\n",
      "Corpo encontrado. numElem 776 e numNodes 356 coords (1068,)\n",
      "***** Elementos do corpo *****\n",
      "tag_body 1 com 776 elementos, 421 nós e 1263 coordenadas\n",
      "  Bloco com 776 elementos: 10 a 785\n",
      "    Elemento 10, nós 296 387 405:\n",
      "     Nó 296: coordenadas [-0.03173111234786189 -0.07234196660120247 0.0]\n",
      "     Nó 387: coordenadas [-0.03720651248292691 -0.08160605945601694 0.0]\n",
      "     Nó 405: coordenadas [-0.02829432056206012 -0.07970427550910986 0.0]\n",
      "    Elemento 11, nós 251 252 295:\n",
      "     Nó 251: coordenadas [-0.02209217392897623 -0.07381220487811378 0.0]\n",
      "     Nó 252: coordenadas [-0.01554346528886373 -0.06706246026450347 0.0]\n",
      "     Nó 295: coordenadas [-0.0259760858081296 -0.06396416913997971 0.0]\n",
      "    Elemento 784, nós 68 375 421:\n",
      "     Nó 68: coordenadas [-0.06735106428005513 -0.06050562544307735 0.0]\n",
      "     Nó 375: coordenadas [-0.06166422435483748 -0.06783099475292886 0.0]\n",
      "     Nó 421: coordenadas [-0.0605705567324637 -0.06142515219440598 0.0]\n",
      "    Elemento 785, nós 393 79 411:\n",
      "     Nó 393: coordenadas [-0.09144367687887539 0.01380952975838493 0.0]\n",
      "     Nó 79: coordenadas [-0.0912707030009765 0.004483842107476281 0.0]\n",
      "     Nó 411: coordenadas [-0.08526304128919164 0.008996787606683664 0.0]\n"
     ]
    }
   ],
   "source": [
    "# mostra informações da malha nova\n",
    "gu.show_mesh_data(name_msh_new)"
   ]
  },
  {
   "cell_type": "code",
   "execution_count": 9,
   "id": "aedaba84",
   "metadata": {},
   "outputs": [
    {
     "name": "stdout",
     "output_type": "stream",
     "text": [
      "Info    : Reading 'malhas/circular_el8_r0.10_lc0.01_v2.2.msh'...\n",
      "Info    : 421 nodes\n",
      "Info    : 785 elements\n",
      "Info    : Done reading 'malhas/circular_el8_r0.10_lc0.01_v2.2.msh'\n"
     ]
    },
    {
     "name": "stderr",
     "output_type": "stream",
     "text": [
      "X_ChangeProperty: BadValue (integer parameter out of range for operation) 0x0\n"
     ]
    },
    {
     "name": "stdout",
     "output_type": "stream",
     "text": [
      "-------------------------------------------------------\n",
      "Version       : 4.14.0\n",
      "License       : GNU General Public License\n",
      "Build OS      : Linux64-sdk\n",
      "Build date    : 20250703\n",
      "Build host    : gmsh.info\n",
      "Build options : 64Bit ALGLIB[contrib] ANN[contrib] Bamg Blas[petsc] Blossom Cgns DIntegration Dlopen DomHex Eigen[contrib] Fltk Gmm[contrib] Hxt Jpeg Kbipack Lapack[petsc] LinuxJoystick MathEx[contrib] Med Mesh Metis[contrib] Mmg Mpeg Netgen Nii2mesh ONELAB ONELABMetamodel OpenCASCADE OpenCASCADE-CAF OpenGL OpenMP OptHom PETSc Parser Plugins Png Post QuadMeshingTools QuadTri Solver TetGen/BR TinyXML2[contrib] Untangle Voro++[contrib] WinslowUntangler Zlib tinyobjloader\n",
      "FLTK version  : 1.3.11\n",
      "PETSc version : 3.14.4 (real arithmtic)\n",
      "OCC version   : 7.8.1\n",
      "MED version   : 4.1.0\n",
      "Packaged by   : geuzaine\n",
      "Web site      : https://gmsh.info\n",
      "Issue tracker : https://gitlab.onelab.info/gmsh/gmsh/issues\n",
      "-------------------------------------------------------\n"
     ]
    }
   ],
   "source": [
    "# abre qualquer malha na GUI do gmsh para visualização\n",
    "gu.view(name_msh)"
   ]
  }
 ],
 "metadata": {
  "kernelspec": {
   "display_name": "pythonEIT",
   "language": "python",
   "name": "python3"
  },
  "language_info": {
   "codemirror_mode": {
    "name": "ipython",
    "version": 3
   },
   "file_extension": ".py",
   "mimetype": "text/x-python",
   "name": "python",
   "nbconvert_exporter": "python",
   "pygments_lexer": "ipython3",
   "version": "3.12.3"
  }
 },
 "nbformat": 4,
 "nbformat_minor": 5
}
