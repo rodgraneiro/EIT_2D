{
 "cells": [
  {
   "cell_type": "code",
   "execution_count": 16,
   "id": "7ecc0617",
   "metadata": {},
   "outputs": [
    {
     "name": "stdout",
     "output_type": "stream",
     "text": [
      "Requirement already satisfied: gmsh in d:\\git_eit_2d\\venv_eit2d\\lib\\site-packages (4.14.0)\n",
      "Note: you may need to restart the kernel to use updated packages.\n"
     ]
    },
    {
     "name": "stderr",
     "output_type": "stream",
     "text": [
      "\n",
      "[notice] A new release of pip is available: 23.1.2 -> 25.2\n",
      "[notice] To update, run: python.exe -m pip install --upgrade pip\n"
     ]
    }
   ],
   "source": [
    "pip install gmsh"
   ]
  },
  {
   "cell_type": "code",
   "execution_count": 15,
   "id": "13e6acf6",
   "metadata": {},
   "outputs": [],
   "source": [
    "import numpy as np\n",
    "import gmsh # para instalar: pip install gmsh"
   ]
  },
  {
   "cell_type": "markdown",
   "id": "a5bfc255",
   "metadata": {},
   "source": [
    "## Exemplo t1 do gmsh"
   ]
  },
  {
   "cell_type": "code",
   "execution_count": 17,
   "id": "5d017a78",
   "metadata": {},
   "outputs": [],
   "source": [
    "# O exemplo t1 é uma malha retangular com 2 entidades físicas, 1 linha e 1 superfície\n",
    "# retirado de: https://gitlab.onelab.info/gmsh/gmsh/-/tree/master/tutorials/python\n",
    "def run_t1(view=False, oldversion=True, name='t1'):\n",
    "    # inicializa API\n",
    "    gmsh.initialize()\n",
    "    gmsh.model.add(name)\n",
    "    # definindo os pontos da geometria do modelo\n",
    "    lc = 1e-2\n",
    "    p1 = gmsh.model.geo.addPoint(0, 0, 0, lc)\n",
    "    p2 = gmsh.model.geo.addPoint(.1, 0, 0, lc)\n",
    "    p3 = gmsh.model.geo.addPoint(.1, .3, 0, lc)\n",
    "    p4 = gmsh.model.geo.addPoint(0, .3, 0, lc)\n",
    "    # definindo as linhas que ligam os pontos\n",
    "    l1 = gmsh.model.geo.addLine(p1,p2)\n",
    "    l2 = gmsh.model.geo.addLine(p3,p2) # repare que os pontos estão invertidos\n",
    "    l3 = gmsh.model.geo.addLine(p3,p4)\n",
    "    l4 = gmsh.model.geo.addLine(p4,p1)\n",
    "    # definindo uma CurveLoop, ligando as linhas\n",
    "    cl1 = gmsh.model.geo.addCurveLoop([l4, l1, -l2, l3]) # repare o sinal negativo de l2, para fechar adequadamente o loop\n",
    "    # definindo uma superfície plana, no caso formada por apenas uma CurveLoop (pode ser mais de uma)\n",
    "    ps1 = gmsh.model.geo.addPlaneSurface([cl1])\n",
    "    # criando as estruturas de dados do gmsh\n",
    "    gmsh.model.geo.synchronize()\n",
    "    # definindo as entidades físicas\n",
    "    phg1 = gmsh.model.addPhysicalGroup(1, [l1, l2, l4]) # entidade física 1D (linhas)\n",
    "    phg2 = gmsh.model.addPhysicalGroup(2, [ps1], name=\"My surface\") # entidade física 2D (superfície)\n",
    "    # gerando malha 2D\n",
    "    gmsh.model.mesh.generate(2)\n",
    "    # gravando malha\n",
    "    if oldversion:\n",
    "        gmsh.option.setNumber(\"Mesh.MshFileVersion\",2.2)\n",
    "    gmsh.write(f'malhas/{name}.msh')\n",
    "    if view:\n",
    "        # se quiser visualizar no gmsh\n",
    "        gmsh.fltk.run()\n",
    "    # Ao final, finalizar API do gmsh\n",
    "    gmsh.finalize()\n",
    "    "
   ]
  },
  {
   "cell_type": "code",
   "execution_count": 18,
   "id": "d8e618c0",
   "metadata": {},
   "outputs": [],
   "source": [
    "run_t1()"
   ]
  },
  {
   "cell_type": "markdown",
   "id": "1890ea7c",
   "metadata": {},
   "source": [
    "## Exemplos de manipulação de malhas"
   ]
  },
  {
   "cell_type": "code",
   "execution_count": 8,
   "id": "1704554b",
   "metadata": {},
   "outputs": [],
   "source": [
    "import gmsh_util as gu"
   ]
  },
  {
   "cell_type": "code",
   "execution_count": 9,
   "id": "1ef71b36",
   "metadata": {},
   "outputs": [
    {
     "name": "stdout",
     "output_type": "stream",
     "text": [
      "Creting mesh malhas/circular_el8_r0.10_lc0.01_v2.2.msh\n"
     ]
    }
   ],
   "source": [
    "# Cria malha circular com 8 eletrodos pontuais no formato antigo (v2.2)\n",
    "name_msh = gu.create_2D_circular_mesh_point_electrodes(8)"
   ]
  },
  {
   "cell_type": "code",
   "execution_count": 10,
   "id": "0441693f",
   "metadata": {},
   "outputs": [
    {
     "name": "stdout",
     "output_type": "stream",
     "text": [
      "Creting mesh malhas/circular_el8_r0.10_lc0.01_v4.1.msh\n"
     ]
    }
   ],
   "source": [
    "# Cria malha circular com 8 eletrodos pontuais no formato novo (v4.1)\n",
    "name_msh_new = gu.create_2D_circular_mesh_point_electrodes(8, oldversion=False)"
   ]
  },
  {
   "cell_type": "code",
   "execution_count": null,
   "id": "767f84d4",
   "metadata": {},
   "outputs": [],
   "source": [
    "# mostra informações da malha antiga\n",
    "gu.show_mesh_data(name_msh)"
   ]
  },
  {
   "cell_type": "code",
   "execution_count": null,
   "id": "b0ac7ee6",
   "metadata": {},
   "outputs": [],
   "source": [
    "# mostra informações da malha nova\n",
    "gu.show_mesh_data(name_msh_new)"
   ]
  },
  {
   "cell_type": "code",
   "execution_count": 13,
   "id": "aedaba84",
   "metadata": {},
   "outputs": [],
   "source": [
    "# abre qualquer malha na GUI do gmsh para visualização\n",
    "gu.view(name_msh)"
   ]
  }
 ],
 "metadata": {
  "kernelspec": {
   "display_name": "venv_EIT2D",
   "language": "python",
   "name": "python3"
  },
  "language_info": {
   "codemirror_mode": {
    "name": "ipython",
    "version": 3
   },
   "file_extension": ".py",
   "mimetype": "text/x-python",
   "name": "python",
   "nbconvert_exporter": "python",
   "pygments_lexer": "ipython3",
   "version": "3.11.4"
  }
 },
 "nbformat": 4,
 "nbformat_minor": 5
}
